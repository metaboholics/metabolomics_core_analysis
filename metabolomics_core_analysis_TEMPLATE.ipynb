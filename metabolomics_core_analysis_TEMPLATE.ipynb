{
 "cells": [
  {
   "cell_type": "markdown",
   "id": "6fafd298",
   "metadata": {},
   "source": [
    "# Title"
   ]
  },
  {
   "cell_type": "markdown",
   "id": "aabe4117",
   "metadata": {},
   "source": [
    "# General"
   ]
  },
  {
   "cell_type": "markdown",
   "id": "c500b693",
   "metadata": {},
   "source": [
    "## Settings"
   ]
  },
  {
   "cell_type": "code",
   "execution_count": null,
   "id": "0ac843bc",
   "metadata": {},
   "outputs": [],
   "source": [
    "# Experiment ID:\n",
    "expID <- '_____'\n",
    "\n",
    "# Absolute path to working directory:\n",
    "wd <- '/media/______'"
   ]
  },
  {
   "cell_type": "markdown",
   "id": "2c2f2fb5",
   "metadata": {},
   "source": [
    "## Initialization"
   ]
  },
  {
   "cell_type": "markdown",
   "id": "ce3a2c5d",
   "metadata": {},
   "source": [
    "Load libraries:"
   ]
  },
  {
   "cell_type": "code",
   "execution_count": null,
   "id": "d18bc087",
   "metadata": {},
   "outputs": [],
   "source": [
    "library(tidyverse)\n",
    "library(MetaboAnalystR)\n",
    "library(IRdisplay)\n",
    "library(limma)\n",
    "library(EnhancedVolcano)"
   ]
  },
  {
   "cell_type": "markdown",
   "id": "7077abaf",
   "metadata": {},
   "source": [
    "# ______ e.g. lipidomics/WS/FA"
   ]
  },
  {
   "cell_type": "markdown",
   "id": "a2b4cebe",
   "metadata": {},
   "source": [
    "## Define variables"
   ]
  },
  {
   "cell_type": "markdown",
   "id": "e0e05a6e",
   "metadata": {},
   "source": [
    "Abbreviation of analysis.\\\n",
    "Used for naming files and directories.\n",
    "\n",
    "If it does not exist, create folder for analysis, then change working directory to said folder."
   ]
  },
  {
   "cell_type": "code",
   "execution_count": null,
   "id": "b626a0a5",
   "metadata": {},
   "outputs": [],
   "source": [
    "analysis <- '______' # e.g. lipidomics/WS/FA\n",
    "\n",
    "dir.create(file.path(wd, analysis), showWarnings = FALSE)\n",
    "setwd(file.path(wd, analysis))"
   ]
  },
  {
   "cell_type": "markdown",
   "id": "17f41137",
   "metadata": {},
   "source": [
    "## Load data"
   ]
  },
  {
   "cell_type": "code",
   "execution_count": null,
   "id": "d3f6a4de",
   "metadata": {},
   "outputs": [],
   "source": [
    "# Maven output targeted\n",
    "data_neg <- read.csv('/media/______')\n",
    "data_pos <- read.csv('/media/______')\n",
    "\n",
    "# Maven output untargeted\n",
    "data_untargeted_neg <- read.csv('/media/______')\n",
    "data_untargeted_pos <- read.csv('/media/______')\n",
    "\n",
    "# Information about groups, later used for tidy data\n",
    "groups_info <- read.csv('/media/______', stringsAsFactors=FALSE)\n",
    "\n",
    "# Info about class, length & saturation for lipids\n",
    "#compounds_neg <- read.csv('/media/______')\n",
    "#compounds_pos <- read.csv('/media/______')"
   ]
  },
  {
   "cell_type": "markdown",
   "id": "662aba93",
   "metadata": {},
   "source": [
    "## Data preparation"
   ]
  },
  {
   "cell_type": "markdown",
   "id": "e28ecd22",
   "metadata": {},
   "source": [
    "### Optional: Add expID to samples"
   ]
  },
  {
   "cell_type": "code",
   "execution_count": 1,
   "id": "2a40dd62",
   "metadata": {},
   "outputs": [],
   "source": [
    "add_prefix <- function(df){\n",
    "    \n",
    "    names <- names(df[,16:45]) # Change to column numbers containing samples\n",
    "    \n",
    "    df_sample <- df %>%\n",
    "        select(names)\n",
    "    df_no_sample <- df %>%\n",
    "        select(!names)\n",
    "    \n",
    "    colnames(df_sample) <- paste(expID, colnames(df_sample), sep = \"_\")\n",
    "    \n",
    "    df <- cbind(df_no_sample, df_sample)\n",
    "    \n",
    "    return(df)\n",
    "}"
   ]
  },
  {
   "cell_type": "code",
   "execution_count": null,
   "id": "5993a372",
   "metadata": {},
   "outputs": [],
   "source": [
    "data_neg <- add_prefix(data_neg)\n",
    "data_pos <- add_prefix(data_pos)\n",
    "\n",
    "data_untargeted_neg <- add_prefix(data_untargeted_neg)\n",
    "data_untargeted_pos <- add_prefix(data_untargeted_pos)"
   ]
  },
  {
   "cell_type": "markdown",
   "id": "0e28f3f2",
   "metadata": {},
   "source": [
    "### Optional: Sort columns in El-Maven output files"
   ]
  },
  {
   "cell_type": "markdown",
   "id": "c7646adf",
   "metadata": {},
   "source": [
    "Order: ascending group number"
   ]
  },
  {
   "cell_type": "code",
   "execution_count": null,
   "id": "3bf6635e",
   "metadata": {},
   "outputs": [],
   "source": [
    "sort_columns <- function(df){\n",
    "    \n",
    "    # Convert sample columns to tidy form for sorting\n",
    "    df <- df %>%\n",
    "        pivot_longer(contains(expID), names_to='sample', values_to='intensity')\n",
    "    \n",
    "    # Add group information to sort by group_number\n",
    "    df <- merge(df,groups_info, by='sample', all.x=TRUE)\n",
    "    \n",
    "    names <- names(groups_info)\n",
    "    names <- names[!names %in% 'sample']\n",
    "    \n",
    "    # Sort every compound by group_number and remove all columns added by groups_info\n",
    "    df <- df %>%\n",
    "        group_by(groupId) %>%\n",
    "        arrange(group_number) %>%\n",
    "        select(!c(all_of(names))) %>%\n",
    "        ungroup\n",
    "\n",
    "    # Convert sample columns to untidy form to restore previous layout\n",
    "    df <- df %>%\n",
    "        pivot_wider(names_from='sample', values_from='intensity')\n",
    "    \n",
    "    df <- as.data.frame(df) # Somewhere the dataframe was turned into a tibble\n",
    "    \n",
    "    return(df)\n",
    "}"
   ]
  },
  {
   "cell_type": "code",
   "execution_count": null,
   "id": "6355ad92",
   "metadata": {},
   "outputs": [],
   "source": [
    "data_neg <- sort_columns(data_neg)\n",
    "data_pos <- sort_columns(data_pos)\n",
    "\n",
    "data_untargeted_neg <- sort_columns(data_untargeted_neg)\n",
    "data_untargeted_pos <- sort_columns(data_untargeted_pos)"
   ]
  },
  {
   "cell_type": "markdown",
   "id": "83112123",
   "metadata": {},
   "source": [
    "### Add column for mode"
   ]
  },
  {
   "cell_type": "code",
   "execution_count": null,
   "id": "77393290",
   "metadata": {},
   "outputs": [],
   "source": [
    "data_neg$mode <- 'neg'\n",
    "data_pos$mode <- 'pos'\n",
    "\n",
    "data_untargeted_neg$mode <- 'neg'\n",
    "data_untargeted_pos$mode <- 'pos'"
   ]
  },
  {
   "cell_type": "markdown",
   "id": "7c913841",
   "metadata": {},
   "source": [
    "### Lipidomics specific: Add columns for class, length & saturation"
   ]
  },
  {
   "cell_type": "markdown",
   "id": "7edbea49",
   "metadata": {},
   "source": [
    "Sort lipids into SFAs, MUFAs & PUFAs based on their number of double bonds."
   ]
  },
  {
   "cell_type": "code",
   "execution_count": null,
   "id": "1db95f0a",
   "metadata": {},
   "outputs": [],
   "source": [
    "convert_double_bonds_to_saturation <- function(df){\n",
    "    df <- df %>%\n",
    "        mutate(saturation = case_when(\n",
    "            double_bonds == 0 ~ 'SFA',\n",
    "            \n",
    "            \n",
    "            class == 'LPA' & double_bonds == 1 ~ 'MUFA',\n",
    "            class == 'LPA-O' & double_bonds == 1 ~ 'MUFA',\n",
    "            class == 'LPC' & double_bonds == 1 ~ 'MUFA',\n",
    "            class == 'LPC-O' & double_bonds == 1 ~ 'MUFA',\n",
    "            class == 'LPE' & double_bonds == 1 ~ 'MUFA',\n",
    "            class == 'LPE-O' & double_bonds == 1 ~ 'MUFA',\n",
    "            class == 'LPG' & double_bonds == 1 ~ 'MUFA',\n",
    "            class == 'LPI' & double_bonds == 1 ~ 'MUFA',\n",
    "            class == 'LPS' & double_bonds == 1 ~ 'MUFA',\n",
    "            \n",
    "            class == 'LPA' & double_bonds > 1 ~ 'PUFA',\n",
    "            class == 'LPA-O' & double_bonds > 1 ~ 'PUFA',\n",
    "            class == 'LPC' & double_bonds > 1 ~ 'PUFA',\n",
    "            class == 'LPC-O' & double_bonds > 1 ~ 'PUFA',\n",
    "            class == 'LPE' & double_bonds > 1 ~ 'PUFA',\n",
    "            class == 'LPE-O' & double_bonds > 1 ~ 'PUFA',\n",
    "            class == 'LPG' & double_bonds > 1 ~ 'PUFA',\n",
    "            class == 'LPI' & double_bonds > 1 ~ 'PUFA',\n",
    "            class == 'LPS' & double_bonds > 1 ~ 'PUFA',\n",
    "            \n",
    "            \n",
    "            class == 'DG' & double_bonds >= 1 & double_bonds <= 2 ~ 'MUFA',\n",
    "            class == 'DG' & double_bonds >= 3 ~ 'PUFA',\n",
    "            \n",
    "            \n",
    "            class == 'PA' & double_bonds >= 1 & double_bonds <= 2 ~ 'MUFA',\n",
    "            class == 'PA-O' & double_bonds >= 1 & double_bonds <= 2 ~ 'MUFA',\n",
    "            class == 'PC' & double_bonds >= 1 & double_bonds <= 2 ~ 'MUFA',\n",
    "            class == 'PC-O' & double_bonds >= 1 & double_bonds <= 2 ~ 'MUFA',\n",
    "            class == 'PE' & double_bonds >= 1 & double_bonds <= 2 ~ 'MUFA',\n",
    "            class == 'PE-O' & double_bonds >= 1 & double_bonds <= 2 ~ 'MUFA',\n",
    "            class == 'PG' & double_bonds >= 1 & double_bonds <= 2 ~ 'MUFA',\n",
    "            class == 'PI' & double_bonds >= 1 & double_bonds <= 2 ~ 'MUFA',\n",
    "            class == 'PS' & double_bonds >= 1 & double_bonds <= 2 ~ 'MUFA',\n",
    "            \n",
    "            class == 'PA' & double_bonds >= 3 ~ 'PUFA',\n",
    "            class == 'PA-O' & double_bonds >= 3 ~ 'PUFA',\n",
    "            class == 'PC' & double_bonds >= 3 ~ 'PUFA',\n",
    "            class == 'PC-O' & double_bonds >= 3 ~ 'PUFA',\n",
    "            class == 'PE' & double_bonds >= 3 ~ 'PUFA',\n",
    "            class == 'PE-O' & double_bonds >= 3 ~ 'PUFA',\n",
    "            class == 'PG' & double_bonds >= 3 ~ 'PUFA',\n",
    "            class == 'PI' & double_bonds >= 3 ~ 'PUFA',\n",
    "            class == 'PS' & double_bonds >= 3 ~ 'PUFA',\n",
    "            \n",
    "            \n",
    "            double_bonds >= 1 & double_bonds <= 3 ~ 'MUFA',\n",
    "            double_bonds >= 4 ~ 'PUFA',\n",
    "            ))\n",
    "    return(df)\n",
    "}"
   ]
  },
  {
   "cell_type": "code",
   "execution_count": null,
   "id": "6852098f",
   "metadata": {},
   "outputs": [],
   "source": [
    "compounds_neg <- convert_double_bonds_to_saturation(compounds_neg)\n",
    "compounds_pos <- convert_double_bonds_to_saturation(compounds_pos)"
   ]
  },
  {
   "cell_type": "code",
   "execution_count": null,
   "id": "473aff51",
   "metadata": {},
   "outputs": [],
   "source": [
    "data_neg <- merge(data_neg, compounds_neg, by='compound', all.x=TRUE)\n",
    "data_pos <- merge(data_pos, compounds_pos, by='compound', all.x=TRUE)"
   ]
  },
  {
   "cell_type": "markdown",
   "id": "e9ef6aa7",
   "metadata": {},
   "source": [
    "### Normalization"
   ]
  },
  {
   "cell_type": "markdown",
   "id": "e4477c0e",
   "metadata": {},
   "source": [
    "Normalization to summed signal of untargeted peak identification.\\\n",
    "Peaks where the ratio of blank to sample exceeds the cut-off are not included in the sum."
   ]
  },
  {
   "cell_type": "markdown",
   "id": "9decdb58",
   "metadata": {},
   "source": [
    "#### Calculate column sums"
   ]
  },
  {
   "cell_type": "code",
   "execution_count": null,
   "id": "34b8298d",
   "metadata": {
    "scrolled": true
   },
   "outputs": [],
   "source": [
    "summed_signal_untargeted <- function(df){\n",
    "    df <- df %>%\n",
    "        select(groupId,contains(expID),contains('lank'))\n",
    "\n",
    "    df <- df %>% mutate(blank_mean = rowMeans(select(., contains('lank'))))\n",
    "    df <- df %>% mutate(sample_mean = rowMeans(select(., contains(expID))))\n",
    "    df <- df %>% mutate(ratio_blank_sample = blank_mean/sample_mean)\n",
    "\n",
    "    df <- df %>%\n",
    "        filter(ratio_blank_sample <= blank_cutoff) %>%\n",
    "        select(!c(blank_mean, sample_mean, ratio_blank_sample))\n",
    "\n",
    "    df <- df %>%\n",
    "        select(groupId, contains(expID))\n",
    "\n",
    "    df <- as.data.frame(df)\n",
    "\n",
    "    rownames(df) <- df[,1]\n",
    "    df[,1] <- NULL\n",
    "\n",
    "    v <- colSums(df)\n",
    "\n",
    "    return(v)\n",
    "}"
   ]
  },
  {
   "cell_type": "code",
   "execution_count": null,
   "id": "9c6a7b0d",
   "metadata": {},
   "outputs": [],
   "source": [
    "blank_cutoff <- 0.2\n",
    "\n",
    "nv_ss_neg <- summed_signal_untargeted(data_untargeted_neg)\n",
    "nv_ss_pos <- summed_signal_untargeted(data_untargeted_pos)"
   ]
  },
  {
   "cell_type": "markdown",
   "id": "003d488f",
   "metadata": {},
   "source": [
    "#### Plot column sums"
   ]
  },
  {
   "cell_type": "code",
   "execution_count": null,
   "id": "a09442ce",
   "metadata": {},
   "outputs": [],
   "source": [
    "# Plot parameters\n",
    "options(repr.plot.width=15)\n",
    "options(repr.plot.height=10)\n",
    "\n",
    "par(las=2, # Vertical labels\n",
    "    mar=c(20,5,1,1), # Margins to prevent label cut-off\n",
    "    mfrow=c(1,2)) # Two plots next to each other\n",
    "\n",
    "barplot(nv_ss_neg, main='Negative')\n",
    "barplot(nv_ss_pos, main='Positive')"
   ]
  },
  {
   "cell_type": "markdown",
   "id": "f04af16d",
   "metadata": {},
   "source": [
    "#### Collect samples in dataframe"
   ]
  },
  {
   "cell_type": "code",
   "execution_count": null,
   "id": "ee3549a6",
   "metadata": {},
   "outputs": [],
   "source": [
    "extract_sample_data <- function(df){\n",
    "    df <- df %>%\n",
    "        filter(label == 'g') %>%\n",
    "        select(groupId,contains(expID))\n",
    "    \n",
    "    # Move first column (now groupId), to row names\n",
    "    rownames(df) <- df[,1]\n",
    "    df[,1] <- NULL\n",
    "    \n",
    "    return(df)\n",
    "}"
   ]
  },
  {
   "cell_type": "code",
   "execution_count": null,
   "id": "50394f0b",
   "metadata": {
    "scrolled": true
   },
   "outputs": [],
   "source": [
    "df_neg <- extract_sample_data(data_neg)\n",
    "df_pos <- extract_sample_data(data_pos)"
   ]
  },
  {
   "cell_type": "markdown",
   "id": "d65d67ec",
   "metadata": {},
   "source": [
    "#### Normalize"
   ]
  },
  {
   "cell_type": "markdown",
   "id": "94ce9bd0",
   "metadata": {},
   "source": [
    "Normalize by dividing matrix m by vector v.\\\n",
    "'/' divides rows, therefore the matrix has to be transformed, divided and transformed back."
   ]
  },
  {
   "cell_type": "code",
   "execution_count": null,
   "id": "7efb2d7f",
   "metadata": {},
   "outputs": [],
   "source": [
    "normalize <- function(df, v){\n",
    "    m <- data.matrix(df)\n",
    "    m <- t(t(m)/v)\n",
    "    df <- as.data.frame(m)\n",
    "    return(df)\n",
    "}"
   ]
  },
  {
   "cell_type": "markdown",
   "id": "669425d0",
   "metadata": {},
   "source": [
    "Named vectors (nv) have to be converted to regular vectors."
   ]
  },
  {
   "cell_type": "code",
   "execution_count": null,
   "id": "ace633d5",
   "metadata": {},
   "outputs": [],
   "source": [
    "df_neg_norm <- normalize(df_neg, unname(nv_ss_neg))\n",
    "df_pos_norm <- normalize(df_pos, unname(nv_ss_pos))"
   ]
  },
  {
   "cell_type": "markdown",
   "id": "f2865da6",
   "metadata": {},
   "source": [
    "### Create dataframe for analysis"
   ]
  },
  {
   "cell_type": "markdown",
   "id": "c9c35170",
   "metadata": {},
   "source": [
    "#### Combine positive and negative mode"
   ]
  },
  {
   "cell_type": "markdown",
   "id": "75a83ced",
   "metadata": {},
   "source": [
    "Move row names to own column and correct data type."
   ]
  },
  {
   "cell_type": "code",
   "execution_count": null,
   "id": "099292e1",
   "metadata": {},
   "outputs": [],
   "source": [
    "data_neg_norm <- tibble::rownames_to_column(df_neg_norm, 'groupId')\n",
    "data_neg_norm$groupId <- as.numeric(data_neg_norm$groupId)\n",
    "\n",
    "data_pos_norm <- tibble::rownames_to_column(df_pos_norm, 'groupId')\n",
    "data_pos_norm$groupId <- as.numeric(data_pos_norm$groupId)"
   ]
  },
  {
   "cell_type": "markdown",
   "id": "fcbd9d51",
   "metadata": {},
   "source": [
    "Add normalized data to maven output file which has all the information.\\\n",
    "Select all columns in the maven output file except those containing sample information, since this is replaced with the normalized values."
   ]
  },
  {
   "cell_type": "code",
   "execution_count": null,
   "id": "189d33f7",
   "metadata": {},
   "outputs": [],
   "source": [
    "df_neg <- data_neg %>%\n",
    "    select(!contains(expID)) %>%\n",
    "    filter(label == 'g')\n",
    "data_neg_norm <- inner_join(df_neg, data_neg_norm, by='groupId')\n",
    "\n",
    "\n",
    "df_pos <- data_pos %>%\n",
    "    select(!contains(expID)) %>%\n",
    "    filter(label == 'g')\n",
    "data_pos_norm <- inner_join(df_pos, data_pos_norm, by='groupId')"
   ]
  },
  {
   "cell_type": "markdown",
   "id": "ac3c4dcb",
   "metadata": {},
   "source": [
    "Combine positive and negative mode"
   ]
  },
  {
   "cell_type": "code",
   "execution_count": null,
   "id": "22751b01",
   "metadata": {},
   "outputs": [],
   "source": [
    "data_norm <- rbind(data_neg_norm, data_pos_norm)"
   ]
  },
  {
   "cell_type": "markdown",
   "id": "b03362c7",
   "metadata": {},
   "source": [
    "#### Create column with unique name in case of duplicates"
   ]
  },
  {
   "cell_type": "code",
   "execution_count": null,
   "id": "c65a1385",
   "metadata": {},
   "outputs": [],
   "source": [
    "data_norm <- data_norm %>%\n",
    "    mutate(unique_name = paste(compound, medRt, mode, sep='_'))"
   ]
  },
  {
   "cell_type": "code",
   "execution_count": null,
   "id": "ea91a701",
   "metadata": {},
   "outputs": [],
   "source": [
    "data_analysis <- data_norm %>%\n",
    "    select(unique_name, contains(expID))"
   ]
  },
  {
   "cell_type": "markdown",
   "id": "060ae9bb",
   "metadata": {},
   "source": [
    "#### OPTIONAL: Create dummy samples to achieve triplicates"
   ]
  },
  {
   "cell_type": "markdown",
   "id": "41ee308b",
   "metadata": {},
   "source": [
    "Column numbers and names for reference."
   ]
  },
  {
   "cell_type": "code",
   "execution_count": null,
   "id": "b57dc99a",
   "metadata": {},
   "outputs": [],
   "source": [
    "as.data.frame(c(id_ = names(data_analysis)))"
   ]
  },
  {
   "cell_type": "code",
   "execution_count": null,
   "id": "e7c0b347",
   "metadata": {},
   "outputs": [],
   "source": [
    "data_analysis <- data_analysis %>%\n",
    "    # Change ______ to correct column name similar to El-Maven output file, e.g. ExpID_condition1_dummy\n",
    "    mutate(______ = rowMeans(data_analysis[2:3]),\n",
    "           ______ = rowMeans(data_analysis[4:5]),\n",
    "           ______ = rowMeans(data_analysis[6:7]),\n",
    "           ______ = rowMeans(data_analysis[8:9]),\n",
    "          )\n",
    "\n",
    "data_analysis <- data_analysis[,c(1,2,3,10,4,5,11,6,7,12,8,9,13)]"
   ]
  },
  {
   "cell_type": "markdown",
   "id": "279f9c26",
   "metadata": {},
   "source": [
    "Update groups_info with dummy samples, store in new variable."
   ]
  },
  {
   "cell_type": "code",
   "execution_count": null,
   "id": "c0a97dcb",
   "metadata": {},
   "outputs": [],
   "source": [
    "groups_info_dummy <- rbind(groups_info,\n",
    "      # sample, group_number, group\n",
    "      c('______', 1, '______', '______', '______'),\n",
    "      c('______', 2, '______', '______', '______'),\n",
    "      c('______', 3, '______', '______', '______'),\n",
    "      c('______', 4, '______', '______', '______')  \n",
    "     )"
   ]
  },
  {
   "cell_type": "code",
   "execution_count": null,
   "id": "0113d3c2",
   "metadata": {},
   "outputs": [],
   "source": [
    "groups_info_dummy <- groups_info_dummy %>%\n",
    "    arrange(group_number)"
   ]
  },
  {
   "cell_type": "markdown",
   "id": "f8cf948b",
   "metadata": {},
   "source": [
    "## Fold change (Limma)"
   ]
  },
  {
   "cell_type": "code",
   "execution_count": null,
   "id": "0fb76b88",
   "metadata": {},
   "outputs": [],
   "source": [
    "data_limma <- data_analysis"
   ]
  },
  {
   "cell_type": "markdown",
   "id": "c94cd719",
   "metadata": {},
   "source": [
    "### Set up"
   ]
  },
  {
   "cell_type": "markdown",
   "id": "2a0d86a7",
   "metadata": {},
   "source": [
    "#### Design matrix"
   ]
  },
  {
   "cell_type": "markdown",
   "id": "0212dfac",
   "metadata": {},
   "source": [
    "The design matrix tells limma which columns belong to which group."
   ]
  },
  {
   "cell_type": "code",
   "execution_count": null,
   "id": "3d7d44ef",
   "metadata": {},
   "outputs": [],
   "source": [
    "groups <- factor(groups_info_dummy$group)\n",
    "\n",
    "design <- model.matrix(~0+groups)\n",
    "\n",
    "colnames(design) <- levels(groups)"
   ]
  },
  {
   "cell_type": "markdown",
   "id": "9086b698",
   "metadata": {},
   "source": [
    "#### Data matrix"
   ]
  },
  {
   "cell_type": "markdown",
   "id": "3ffd128c",
   "metadata": {},
   "source": [
    "Data needs to be in log2 transformed matrix"
   ]
  },
  {
   "cell_type": "code",
   "execution_count": null,
   "id": "d59fdb21",
   "metadata": {},
   "outputs": [],
   "source": [
    "rownames(data_limma) <- data_limma[,1]\n",
    "data_limma[,1] <- NULL\n",
    "\n",
    "m <- data.matrix(data_limma)\n",
    "m <- log2(m)"
   ]
  },
  {
   "cell_type": "markdown",
   "id": "8527dedd",
   "metadata": {},
   "source": [
    "#### Contrast matrix"
   ]
  },
  {
   "cell_type": "markdown",
   "id": "ad6470e4",
   "metadata": {},
   "source": [
    "The contrast matrix tells limma which groups to compare."
   ]
  },
  {
   "cell_type": "markdown",
   "id": "97191e01",
   "metadata": {},
   "source": [
    "Create list containing comparisons in order to have the comparison matrix created by makeContrasts().\\\n",
    "Comparisons are stored in a list and can be accessed by their position.\n",
    "\n",
    "a-b means \"a/b\":\n",
    "- positive FC: increased in a relative to b\n",
    "- negative FC: decreased in a relative to b"
   ]
  },
  {
   "cell_type": "code",
   "execution_count": null,
   "id": "19a4b9b0",
   "metadata": {},
   "outputs": [],
   "source": [
    "comparison <- list('grp2-grp1','grp4-grp3','grp3-grp1','grp4-grp2')\n",
    "\n",
    "cont_m <- makeContrasts(contrasts=comparison, levels=design)"
   ]
  },
  {
   "cell_type": "markdown",
   "id": "064d51c7",
   "metadata": {},
   "source": [
    "#### FC calculation"
   ]
  },
  {
   "cell_type": "code",
   "execution_count": null,
   "id": "513d26d7",
   "metadata": {},
   "outputs": [],
   "source": [
    "fit <- lmFit(m, design)\n",
    "fit <- contrasts.fit(fit, cont_m)\n",
    "fit <- eBayes(fit)"
   ]
  },
  {
   "cell_type": "markdown",
   "id": "55ee6bd8",
   "metadata": {},
   "source": [
    "### ANOVA"
   ]
  },
  {
   "cell_type": "code",
   "execution_count": null,
   "id": "20af13ef",
   "metadata": {
    "scrolled": true
   },
   "outputs": [],
   "source": [
    "ANOVA <- topTable(fit, n=Inf)\n",
    "ANOVA"
   ]
  },
  {
   "cell_type": "markdown",
   "id": "5070d1c4",
   "metadata": {},
   "source": [
    "Select only p-value column and move row names to column for later merging."
   ]
  },
  {
   "cell_type": "code",
   "execution_count": null,
   "id": "c551e712",
   "metadata": {},
   "outputs": [],
   "source": [
    "ANOVA <- ANOVA %>%\n",
    "    select(P.Value, adj.P.Val) %>%\n",
    "    rename(ANOVA.P.Value = P.Value,\n",
    "           ANOVA.adj.P.Val = adj.P.Val\n",
    "          )\n",
    "\n",
    "ANOVA <- tibble::rownames_to_column(ANOVA, 'unique_name')"
   ]
  },
  {
   "cell_type": "markdown",
   "id": "a55b1a3e",
   "metadata": {},
   "source": [
    "### Pairwise comparisons"
   ]
  },
  {
   "cell_type": "markdown",
   "id": "eafa2ec2",
   "metadata": {},
   "source": [
    "#### Creation and export"
   ]
  },
  {
   "cell_type": "code",
   "execution_count": null,
   "id": "73078e22",
   "metadata": {},
   "outputs": [],
   "source": [
    "comparison"
   ]
  },
  {
   "cell_type": "code",
   "execution_count": null,
   "id": "0619f540",
   "metadata": {},
   "outputs": [],
   "source": [
    "res1 <- topTable(fit, number = Inf, coef=comparison[[1]])\n",
    "res2 <- topTable(fit, number = Inf, coef=comparison[[2]])\n",
    "res3 <- topTable(fit, number = Inf, coef=comparison[[3]])\n",
    "res4 <- topTable(fit, number = Inf, coef=comparison[[4]])"
   ]
  },
  {
   "cell_type": "code",
   "execution_count": null,
   "id": "c0075279",
   "metadata": {},
   "outputs": [],
   "source": [
    "write.csv(res1, paste(expID, '_logFC', comparison[[1]],'.csv', sep=''))\n",
    "write.csv(res2, paste(expID, '_logFC', comparison[[2]],'.csv', sep=''))\n",
    "write.csv(res3, paste(expID, '_logFC', comparison[[3]],'.csv', sep=''))\n",
    "write.csv(res4, paste(expID, '_logFC', comparison[[4]],'.csv', sep=''))"
   ]
  },
  {
   "cell_type": "markdown",
   "id": "f549168f",
   "metadata": {},
   "source": [
    "#### Volcano plots"
   ]
  },
  {
   "cell_type": "code",
   "execution_count": null,
   "id": "ea409bf7",
   "metadata": {},
   "outputs": [],
   "source": [
    "# Plot parameters\n",
    "options(repr.plot.width=15)\n",
    "options(repr.plot.height=15)\n",
    "\n",
    "volcano <- function(df){\n",
    "    EnhancedVolcano(df,\n",
    "        lab = rownames(df),\n",
    "        x = 'logFC',\n",
    "        y = 'P.Value',\n",
    "        pCutoff = 0.05,\n",
    "        FCcutoff = 1,\n",
    "        pointSize = 3,\n",
    "        #labSize = 6\n",
    "       )\n",
    "}"
   ]
  },
  {
   "cell_type": "markdown",
   "id": "81503ca0",
   "metadata": {},
   "source": [
    "##### Grp2-Grp1"
   ]
  },
  {
   "cell_type": "code",
   "execution_count": null,
   "id": "b72f9184",
   "metadata": {
    "scrolled": true
   },
   "outputs": [],
   "source": [
    "volcano(res1)"
   ]
  },
  {
   "cell_type": "code",
   "execution_count": null,
   "id": "8ef0cf0e",
   "metadata": {
    "scrolled": true
   },
   "outputs": [],
   "source": [
    "res1 %>%\n",
    "    filter(P.Value < 0.05,\n",
    "           abs(logFC) > 1,\n",
    "          )"
   ]
  },
  {
   "cell_type": "markdown",
   "id": "0b0500f7",
   "metadata": {},
   "source": [
    "##### Grp4-Grp3"
   ]
  },
  {
   "cell_type": "code",
   "execution_count": null,
   "id": "ad4d3665",
   "metadata": {
    "scrolled": true
   },
   "outputs": [],
   "source": [
    "volcano(res2)"
   ]
  },
  {
   "cell_type": "code",
   "execution_count": null,
   "id": "2c3f310d",
   "metadata": {
    "scrolled": true
   },
   "outputs": [],
   "source": [
    "res2 %>%\n",
    "    filter(P.Value < 0.05,\n",
    "           abs(logFC) > 1,\n",
    "          )"
   ]
  },
  {
   "cell_type": "markdown",
   "id": "ead8692f",
   "metadata": {},
   "source": [
    "##### Grp3-Grp1"
   ]
  },
  {
   "cell_type": "code",
   "execution_count": null,
   "id": "22b8999c",
   "metadata": {
    "scrolled": true
   },
   "outputs": [],
   "source": [
    "volcano(res3)"
   ]
  },
  {
   "cell_type": "code",
   "execution_count": null,
   "id": "550385ca",
   "metadata": {
    "scrolled": true
   },
   "outputs": [],
   "source": [
    "res3 %>%\n",
    "    filter(P.Value < 0.05,\n",
    "           abs(logFC) > 1,\n",
    "          )"
   ]
  },
  {
   "cell_type": "markdown",
   "id": "16807079",
   "metadata": {},
   "source": [
    "##### Grp4-Grp2"
   ]
  },
  {
   "cell_type": "code",
   "execution_count": null,
   "id": "45bbdb34",
   "metadata": {
    "scrolled": true
   },
   "outputs": [],
   "source": [
    "volcano(res4)"
   ]
  },
  {
   "cell_type": "code",
   "execution_count": null,
   "id": "39bdb50f",
   "metadata": {
    "scrolled": true
   },
   "outputs": [],
   "source": [
    "res4 %>%\n",
    "    filter(P.Value < 0.05,\n",
    "           abs(logFC) > 1,\n",
    "          )"
   ]
  },
  {
   "cell_type": "markdown",
   "id": "6d33a72e",
   "metadata": {},
   "source": [
    "## Create and export dataframes"
   ]
  },
  {
   "cell_type": "markdown",
   "id": "aa7de59d",
   "metadata": {},
   "source": [
    "### log2FC (IPA)"
   ]
  },
  {
   "cell_type": "code",
   "execution_count": null,
   "id": "f6ef10e5",
   "metadata": {
    "scrolled": true
   },
   "outputs": [],
   "source": [
    "comparison"
   ]
  },
  {
   "cell_type": "code",
   "execution_count": null,
   "id": "27297d05",
   "metadata": {},
   "outputs": [],
   "source": [
    "extract_significant_fc <- function(df, number){\n",
    "    names(df)[1] <- comparison[[number]]\n",
    "    df <- df %>%\n",
    "        filter(P.Value > 0.05) %>%\n",
    "        select(1)\n",
    "    df <- tibble::rownames_to_column(df, 'unique_name')\n",
    "}"
   ]
  },
  {
   "cell_type": "code",
   "execution_count": null,
   "id": "f886d5c5",
   "metadata": {},
   "outputs": [],
   "source": [
    "res1_logFC <- extract_significant_fc(res1, 1)\n",
    "res2_logFC <- extract_significant_fc(res2, 2)\n",
    "res3_logFC <- extract_significant_fc(res3, 3)\n",
    "res4_logFC <- extract_significant_fc(res4, 4)\n",
    "\n",
    "data_logFC <- merge(res1_logFC, res2_logFC, by='unique_name', all.x=TRUE)\n",
    "data_logFC <- merge(data_logFC, res3_logFC, by='unique_name', all.x=TRUE)\n",
    "data_logFC <- merge(data_logFC, res4_logFC, by='unique_name', all.x=TRUE)\n",
    "\n",
    "write.csv(data_logFC, paste(expID, '_', analysis, '_logFC.csv', sep=''), row.names=FALSE)"
   ]
  },
  {
   "cell_type": "markdown",
   "id": "c64ae622",
   "metadata": {},
   "source": [
    "### Tidy log2FC"
   ]
  },
  {
   "cell_type": "markdown",
   "id": "ef3ba58f",
   "metadata": {},
   "source": [
    "Use one of the two:"
   ]
  },
  {
   "cell_type": "markdown",
   "id": "01908ee5",
   "metadata": {},
   "source": [
    "#### Lipidomics"
   ]
  },
  {
   "cell_type": "markdown",
   "id": "6c9c638c",
   "metadata": {},
   "source": [
    "classes <- data_norm %>%\n",
    "    select(unique_name, class, length, double_bonds, saturation)\n",
    "\n",
    "data_logFC_tidy <- merge(data_logFC, classes, by='unique_name', all.x=TRUE)\n",
    "\n",
    "\n",
    "data_logFC_tidy <- data_logFC_tidy %>%\n",
    "    pivot_longer(c(2,3,4,5), names_to='comparison', values_to='log2FC')\n",
    "\n",
    "\n",
    "write.csv(data_logFC_tidy, paste(expID, '_', analysis, '_logFC_tidy.csv', sep=''), row.names=FALSE)"
   ]
  },
  {
   "cell_type": "markdown",
   "id": "1f2f4870",
   "metadata": {},
   "source": [
    "#### Other:"
   ]
  },
  {
   "cell_type": "code",
   "execution_count": null,
   "id": "f9d03539",
   "metadata": {},
   "outputs": [],
   "source": [
    "data_logFC_tidy <- data_logFC %>%\n",
    "    pivot_longer(c(2,3,4,5), names_to='comparison', values_to='log2FC')\n",
    "\n",
    "\n",
    "write.csv(data_logFC_tidy, paste(expID, '_', analysis, '_logFC_tidy.csv', sep=''), row.names=FALSE)"
   ]
  },
  {
   "cell_type": "markdown",
   "id": "b3a1cef5",
   "metadata": {},
   "source": [
    "### Tidy normalized intensity"
   ]
  },
  {
   "cell_type": "code",
   "execution_count": null,
   "id": "220bcc65",
   "metadata": {},
   "outputs": [],
   "source": [
    "data_tidy <- data_analysis %>%\n",
    "    pivot_longer(!unique_name, names_to = 'sample', values_to = 'intensity')\n",
    "\n",
    "data_tidy <- merge(data_tidy, groups_info_dummy, by = 'sample', all.x=TRUE)\n",
    "\n",
    "data_tidy <- merge(data_tidy, ANOVA, by = 'unique_name', all.x=TRUE)\n",
    "\n",
    "\n",
    "# Only for lipidomics\n",
    "#data_tidy <- merge(data_tidy, classes, by='unique_name')\n",
    "\n",
    "\n",
    "write.csv(data_tidy, paste(expID, '_', analysis, '_tidy.csv', sep=''), row.names=FALSE)"
   ]
  },
  {
   "cell_type": "markdown",
   "id": "5f53d316",
   "metadata": {},
   "source": [
    "### Normalized intensity (MetaboAanalyst)"
   ]
  },
  {
   "cell_type": "markdown",
   "id": "102493d1",
   "metadata": {},
   "source": [
    "#### Statistical analysis"
   ]
  },
  {
   "cell_type": "code",
   "execution_count": null,
   "id": "6b61aecc",
   "metadata": {},
   "outputs": [],
   "source": [
    "data_metaboanalyst <- data_analysis\n",
    "dir.create(file.path(getwd(), 'metaboanalyst'), showWarnings = TRUE) # Create metaboanalyst folder if it does not exist"
   ]
  },
  {
   "cell_type": "markdown",
   "id": "7d92e882",
   "metadata": {},
   "source": [
    "##### All peaks"
   ]
  },
  {
   "cell_type": "code",
   "execution_count": null,
   "id": "251d8700",
   "metadata": {},
   "outputs": [],
   "source": [
    "# Add row containing groups\n",
    "data_metaboanalyst_all <- rbind(c('', replicate(3,'Grp1'), replicate(3,'Grp2'), replicate(3,'Grp3'), replicate(3,'Grp4')), data_metaboanalyst)\n",
    "\n",
    "# Export\n",
    "dir.create(file.path(getwd(), 'metaboanalyst/statistical_analysis_all'), showWarnings = TRUE) # Create metaboanalyst folder if it does not exist\n",
    "write.csv(data_metaboanalyst_all, paste('metaboanalyst/statistical_analysis_all/', expID, '_', analysis, '_metaboanalyst_input.csv', sep=''), row.names=FALSE)"
   ]
  },
  {
   "cell_type": "markdown",
   "id": "5008234d",
   "metadata": {},
   "source": [
    "##### Significant peaks"
   ]
  },
  {
   "cell_type": "code",
   "execution_count": null,
   "id": "9849d9b6",
   "metadata": {},
   "outputs": [],
   "source": [
    "# Get list of significant compounds\n",
    "ANOVA_sign_compounds <- ANOVA %>%\n",
    "    filter(ANOVA.P.Value < 0.05) %>%\n",
    "    select(unique_name)\n",
    "\n",
    "# Only keep compounds that are significant\n",
    "data_metaboanalyst_sign <- merge(data_metaboanalyst, ANOVA_sign_compounds, by='unique_name')\n",
    "\n",
    "# Add row containing groups\n",
    "data_metaboanalyst_sign <- rbind(c('', replicate(3,'Grp1'), replicate(3,'Grp2'), replicate(3,'Grp3'), replicate(3,'Grp4')), data_metaboanalyst_sign)\n",
    "\n",
    "# Export\n",
    "dir.create(file.path(getwd(), 'metaboanalyst/statistical_analysis_sign'), showWarnings = FALSE) # Create metaboanalyst folder if it does not exist\n",
    "write.csv(data_metaboanalyst_sign, paste('metaboanalyst/statistical_analysis_sign/', expID, '_', analysis, '_metaboanalyst_input.csv', sep=''), row.names=FALSE)"
   ]
  },
  {
   "cell_type": "markdown",
   "id": "37e31c2e",
   "metadata": {},
   "source": [
    "#### Enrichment analysis"
   ]
  },
  {
   "cell_type": "markdown",
   "id": "e99ff9e8",
   "metadata": {},
   "source": [
    "Enrichment analysis only works with pairwise comparisons."
   ]
  },
  {
   "cell_type": "code",
   "execution_count": null,
   "id": "12d24971",
   "metadata": {},
   "outputs": [],
   "source": [
    "# df is res1, res2, ...\n",
    "# grp1 & grp2 is a vector containing the columns of the respective group, e.g. c(2,3,4)\n",
    "create_enrichment_analysis_file <- function(df, grp1_names, grp1_cols, grp2_names, grp2_cols, comparison_number){    \n",
    "\n",
    "    # Get unique names of significant compounds\n",
    "    df_comp_names <- df %>%\n",
    "        filter(P.Value < 0.05) %>%\n",
    "        tibble::rownames_to_column('unique_name') %>%\n",
    "        select(unique_name)\n",
    "\n",
    "    # Get all Kegg IDs and unique names (enrichment analysis requires IDs)\n",
    "    df_comp_id <- data_norm %>%\n",
    "        select(unique_name,\n",
    "               compoundId\n",
    "              )\n",
    "\n",
    "    # Select columns containing normalized data from the two groups\n",
    "    df_comp_data <- data_analysis %>%\n",
    "        select(1, all_of(grp1_cols), all_of(grp2_cols))\n",
    "    \n",
    "    # Merge dataframes to assign all significant compounds their ID and measurements\n",
    "    df_comp <- merge(df_comp_names, df_comp_data, all.x=TRUE)\n",
    "    df_comp <- merge(df_comp, df_comp_id, all.x=TRUE)\n",
    "    \n",
    "    # Move compoundID column to the front and drop unique names\n",
    "    df_comp <- df_comp %>%\n",
    "        relocate(compoundId) %>%\n",
    "        mutate(unique_name = NULL)\n",
    "    \n",
    "    # Compound IDs can occur multiple times, drop all duplicates except the one with the highest average normalized peak intensity\n",
    "    df_comp <- df_comp %>%\n",
    "        mutate(sum = rowSums(across(where(is.numeric)))) %>%\n",
    "        arrange(sum) %>%\n",
    "        distinct(compoundId, .keep_all=TRUE) %>%\n",
    "        mutate(sum = NULL)\n",
    "    \n",
    "    # Add group row\n",
    "    print('Error: “invalid factor level, NA generated” and “NULL” can be ignored')\n",
    "    df_comp <- rbind(c('', replicate(3, grp1_names), replicate(3, grp2_names)), df_comp)\n",
    "    \n",
    "    dir.create(file.path(getwd(), paste('metaboanalyst/enrichment_analysis_', comparison[[comparison_number]], sep='')), showWarnings = FALSE) # Create metaboanalyst folder if it does not exist\n",
    "    write.csv(df_comp, paste('metaboanalyst/enrichment_analysis_', comparison[[comparison_number]], '/', expID, '_', analysis, '_metaboanalyst_input.csv', sep=''), row.names=FALSE)\n",
    "\n",
    "    return()\n",
    "}"
   ]
  },
  {
   "cell_type": "code",
   "execution_count": null,
   "id": "6ca9b9e9",
   "metadata": {
    "scrolled": true
   },
   "outputs": [],
   "source": [
    "create_enrichment_analysis_file(res1, 'Grp1', c(2,3,4), 'Grp2', c(5,6,7), 1)\n",
    "create_enrichment_analysis_file(res2, 'Grp4', c(8,9,10), 'Grp3', c(11,12,13), 2)\n",
    "create_enrichment_analysis_file(res3, 'Grp3', c(8,9,10), 'Grp1', c(2,3,4), 3)\n",
    "create_enrichment_analysis_file(res4, 'Grp4', c(11,12,13), 'Grp2', c(5,6,7), 4)"
   ]
  },
  {
   "cell_type": "markdown",
   "id": "b9242e1b",
   "metadata": {},
   "source": [
    "## Metaboanalyst"
   ]
  },
  {
   "cell_type": "markdown",
   "id": "1e7be1bb",
   "metadata": {},
   "source": [
    "### Terminal"
   ]
  },
  {
   "cell_type": "markdown",
   "id": "d7dddcee",
   "metadata": {},
   "source": [
    "Metaboanalyst has bugs in Jupyter, therefore the whole analysis is done in the command line and then imported.\\\n",
    "Run the following script in R:"
   ]
  },
  {
   "cell_type": "code",
   "execution_count": null,
   "id": "4d632faa",
   "metadata": {},
   "outputs": [],
   "source": [
    "if(FALSE){\n",
    "\n",
    "\n",
    "\n",
    "# Load package\n",
    "library(MetaboAnalystR)\n",
    "\n",
    "# Experiment ID:\n",
    "expID <- '______'\n",
    "# Analyzed compounds\n",
    "analysis <- '______' # e.g. lipidomics/WS/FA\n",
    "\n",
    "# Absolute path to working directory:\n",
    "wd <- '/media/______'\n",
    "setwd(file.path(wd, analysis))\n",
    "\n",
    "# Comparisons for enrichment analysis\n",
    "comparison <- list('grp2-grp1','grp4-grp3','grp3-grp1','grp4-grp2')\n",
    "\n",
    "\n",
    "# relwd: e.g. 'metaboanalyst/statistical_analysis_all/'\n",
    "metaboanalyst_statistical_analysis <- function(relwd){\n",
    "    \n",
    "    setwd(relwd)\n",
    "    \n",
    "    # Initiation\n",
    "    mSet<-InitDataObjects(\"pktable\", \"stat\", FALSE)\n",
    "    mSet<-Read.TextData(mSet, paste(expID, '_', analysis, '_metaboanalyst_input.csv', sep=''), \"colu\", \"disc\");\n",
    "    mSet<-SanityCheckData(mSet)\n",
    "    mSet<-ContainMissing(mSet)\n",
    "    mSet<-ReplaceMin(mSet);\n",
    "    mSet<-SanityCheckData(mSet)\n",
    "    mSet<-ContainMissing(mSet)\n",
    "    mSet<-FilterVariable(mSet, \"none\", \"F\", 25)\n",
    "    mSet<-PreparePrenormData(mSet)\n",
    "    \n",
    "    # Log2-transformation\n",
    "    mSet<-Normalization(mSet, \"NULL\", \"LogNorm\", \"NULL\", ratio=FALSE, ratioNum=20)\n",
    "    \n",
    "    # Heatmap\n",
    "    mSet<-PlotHeatMap(mSet, \"heatmap_0_\", \"png\", 72, width=NA, \"norm\", \"row\", \"euclidean\", \"ward.D\",\"bwm\", \"overview\", T, T, NULL, T, F)\n",
    "\n",
    "    # PCA\n",
    "    mSet<-PCA.Anal(mSet)\n",
    "    mSet<-PlotPCAScree(mSet, \"pca_scree_0_\", \"png\", 72, width=NA, 5)\n",
    "    mSet<-PlotPCA2DScore(mSet, \"pca_score2d_0_\", \"png\", 72, width=NA, 1,2,0.95,0,0)\n",
    "\n",
    "\n",
    "    save(mSet , file='mSet.Rdata')\n",
    "    \n",
    "    setwd(file.path(wd, analysis))\n",
    "}\n",
    "\n",
    "metaboanalyst_statistical_analysis('metaboanalyst/statistical_analysis_all/')\n",
    "metaboanalyst_statistical_analysis('metaboanalyst/statistical_analysis_sign/')\n",
    "\n",
    "\n",
    "\n",
    "\n",
    "}"
   ]
  },
  {
   "cell_type": "code",
   "execution_count": null,
   "id": "722bdb26",
   "metadata": {},
   "outputs": [],
   "source": [
    "load(file='metaboanalyst/statistical_analysis_all/mSet.Rdata')\n",
    "mSet_stats_all <- mSet\n",
    "\n",
    "load(file='metaboanalyst/statistical_analysis_sign/mSet.Rdata')\n",
    "mSet_stats_sign <- mSet"
   ]
  },
  {
   "cell_type": "markdown",
   "id": "ee340acf",
   "metadata": {},
   "source": [
    "### Statistical analysis"
   ]
  },
  {
   "cell_type": "markdown",
   "id": "af48c29e",
   "metadata": {},
   "source": [
    "#### All peaks"
   ]
  },
  {
   "cell_type": "markdown",
   "id": "57fd2d34",
   "metadata": {},
   "source": [
    "##### Heatmap"
   ]
  },
  {
   "cell_type": "code",
   "execution_count": null,
   "id": "11e3b368",
   "metadata": {
    "scrolled": false
   },
   "outputs": [],
   "source": [
    "display_png(file=paste('metaboanalyst/statistical_analysis_all/', mSet_stats_all$imgSet$heatmap, sep=''))"
   ]
  },
  {
   "cell_type": "markdown",
   "id": "b07038ff",
   "metadata": {},
   "source": [
    "##### PCA"
   ]
  },
  {
   "cell_type": "code",
   "execution_count": null,
   "id": "ccb8061a",
   "metadata": {},
   "outputs": [],
   "source": [
    "display_png(file=paste('metaboanalyst/statistical_analysis_all/', mSet_stats_all$imgSet$pca.score2d, sep=''))\n",
    "display_png(file=paste('metaboanalyst/statistical_analysis_all/', mSet_stats_all$imgSet$pca.scree, sep=''))"
   ]
  },
  {
   "cell_type": "markdown",
   "id": "d79b0978",
   "metadata": {},
   "source": [
    "#### Significant peaks"
   ]
  },
  {
   "cell_type": "markdown",
   "id": "c5bffb91",
   "metadata": {},
   "source": [
    "##### Heatmap"
   ]
  },
  {
   "cell_type": "code",
   "execution_count": null,
   "id": "607020b2",
   "metadata": {
    "scrolled": false
   },
   "outputs": [],
   "source": [
    "display_png(file=paste('metaboanalyst/statistical_analysis_sign/', mSet_stats_sign$imgSet$heatmap, sep=''))"
   ]
  },
  {
   "cell_type": "markdown",
   "id": "79e09e89",
   "metadata": {},
   "source": [
    "##### PCA"
   ]
  },
  {
   "cell_type": "code",
   "execution_count": null,
   "id": "30ab9ab6",
   "metadata": {
    "scrolled": false
   },
   "outputs": [],
   "source": [
    "display_png(file=paste('metaboanalyst/statistical_analysis_sign/', mSet_stats_sign$imgSet$pca.score2d, sep=''))\n",
    "display_png(file=paste('metaboanalyst/statistical_analysis_sign/', mSet_stats_sign$imgSet$pca.scree, sep=''))"
   ]
  },
  {
   "cell_type": "markdown",
   "id": "b4503dca",
   "metadata": {},
   "source": [
    "### Enrichment analysis"
   ]
  },
  {
   "cell_type": "markdown",
   "id": "82943486",
   "metadata": {},
   "source": [
    "Currently not working because api.xialab.ca is offline."
   ]
  },
  {
   "cell_type": "markdown",
   "id": "b18fdf94",
   "metadata": {},
   "source": [
    "#### Targeted"
   ]
  },
  {
   "cell_type": "markdown",
   "id": "ae86660a",
   "metadata": {},
   "source": [
    "#### Untargeted"
   ]
  }
 ],
 "metadata": {
  "kernelspec": {
   "display_name": "R",
   "language": "R",
   "name": "ir"
  },
  "language_info": {
   "codemirror_mode": "r",
   "file_extension": ".r",
   "mimetype": "text/x-r-source",
   "name": "R",
   "pygments_lexer": "r",
   "version": "3.6.3"
  },
  "toc": {
   "base_numbering": "0",
   "nav_menu": {},
   "number_sections": true,
   "sideBar": true,
   "skip_h1_title": false,
   "title_cell": "Table of Contents",
   "title_sidebar": "Contents",
   "toc_cell": false,
   "toc_position": {
    "height": "647.333px",
    "left": "104px",
    "top": "110.233px",
    "width": "341.333px"
   },
   "toc_section_display": true,
   "toc_window_display": true
  }
 },
 "nbformat": 4,
 "nbformat_minor": 5
}
