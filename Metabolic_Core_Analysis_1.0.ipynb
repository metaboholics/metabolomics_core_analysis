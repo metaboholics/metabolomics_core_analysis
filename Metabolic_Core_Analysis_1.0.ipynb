{
 "cells": [
  {
   "cell_type": "markdown",
   "id": "7afddc86",
   "metadata": {},
   "source": [
    "# Description"
   ]
  },
  {
   "cell_type": "markdown",
   "id": "d400a150",
   "metadata": {},
   "source": [
    "## Required files"
   ]
  },
  {
   "cell_type": "markdown",
   "id": "adf83306",
   "metadata": {},
   "source": [
    "For more information see provided example files."
   ]
  },
  {
   "cell_type": "markdown",
   "id": "09d92753",
   "metadata": {},
   "source": [
    "### Maven output files"
   ]
  },
  {
   "cell_type": "markdown",
   "id": "aca55199",
   "metadata": {},
   "source": [
    "Maven output files are the csv files that are saved when exporting the peak list.\\\n",
    "Always select \"export all peaks\"."
   ]
  },
  {
   "cell_type": "markdown",
   "id": "febf1f65",
   "metadata": {},
   "source": [
    "In your analysis, mark metabolites as \"good\" and internal standards as \"bad\"."
   ]
  },
  {
   "cell_type": "markdown",
   "id": "02ef2f9a",
   "metadata": {},
   "source": [
    "### Maven untargeted analysis"
   ]
  },
  {
   "cell_type": "markdown",
   "id": "ca582054",
   "metadata": {},
   "source": [
    "Run peak detection with the following settings.\\\n",
    "Preferably on the evaluation PC, as this can take up to several hours."
   ]
  },
  {
   "cell_type": "markdown",
   "id": "73eac908",
   "metadata": {},
   "source": [
    "If no untargeted data is available, simply load the files from the targeted analysis."
   ]
  },
  {
   "cell_type": "markdown",
   "id": "6fc581ce",
   "metadata": {},
   "source": [
    "<img src=\"images/peak_detection.png\">\n",
    "<img src=\"images/group_filtering.png\">"
   ]
  },
  {
   "cell_type": "markdown",
   "id": "b1f195fe",
   "metadata": {},
   "source": [
    "### Metadata samples"
   ]
  },
  {
   "cell_type": "markdown",
   "id": "5798c4ba",
   "metadata": {},
   "source": [
    "Metadata template file exported from El-Maven."
   ]
  },
  {
   "cell_type": "markdown",
   "id": "1f34c142",
   "metadata": {},
   "source": [
    "<img src=\"images/maven_download_metadata.png\">"
   ]
  },
  {
   "cell_type": "markdown",
   "id": "5cb7a1d2",
   "metadata": {},
   "source": [
    "Fill in the \"Cohort\" column with your group names."
   ]
  },
  {
   "cell_type": "markdown",
   "id": "cb52ba95",
   "metadata": {},
   "source": [
    "### Metadata groups"
   ]
  },
  {
   "cell_type": "markdown",
   "id": "149ebcfc",
   "metadata": {},
   "source": [
    "Column \"group\" has to have the same group names as the \"Cohort\" column in the \"samples\" file."
   ]
  },
  {
   "cell_type": "markdown",
   "id": "3a5629f7",
   "metadata": {},
   "source": [
    "All other column can contain all the metadata associated with the groups."
   ]
  },
  {
   "cell_type": "markdown",
   "id": "743da85c",
   "metadata": {},
   "source": [
    "### BCA"
   ]
  },
  {
   "cell_type": "markdown",
   "id": "add317ff",
   "metadata": {},
   "source": [
    "Column containing sample names has to be the format \"sample_\" + analysis_type (e.g. \"sample_WS), as specified in analysis_type when initializing the data."
   ]
  },
  {
   "cell_type": "markdown",
   "id": "09f1a9b8",
   "metadata": {},
   "source": [
    "Sample names have to be identical with sample names in \"samples\" file."
   ]
  },
  {
   "cell_type": "markdown",
   "id": "a0499382",
   "metadata": {},
   "source": [
    "\"group\" column has to be identical with \"group\" column in \"groups\" file."
   ]
  },
  {
   "cell_type": "markdown",
   "id": "3450298b",
   "metadata": {},
   "source": [
    "For now, mc_protein (for \"mean centered\") has to be calculated manually in excel.\\\n",
    "For this calculate the average protein concentration across all samples and divide every protein concentration by this average.\\\n",
    "To check that this was successful, calculate the average of the mc_protein. This needs to be 1."
   ]
  },
  {
   "cell_type": "markdown",
   "id": "d4046479",
   "metadata": {},
   "source": [
    "### Metadata library"
   ]
  },
  {
   "cell_type": "markdown",
   "id": "0ed69089",
   "metadata": {},
   "source": [
    "For now negative and positive modes have separate libraries. This might be changed in the future, since it is not necessary."
   ]
  },
  {
   "cell_type": "markdown",
   "id": "b0d0842f",
   "metadata": {},
   "source": [
    "Library metadata files can be found on the MS server."
   ]
  },
  {
   "cell_type": "markdown",
   "id": "e473cf2c",
   "metadata": {},
   "source": [
    "The files contain the compound name and all associated metadata, e.g. class, saturation, etc."
   ]
  },
  {
   "cell_type": "markdown",
   "id": "3cc0722b",
   "metadata": {},
   "source": [
    "### Metadata IS"
   ]
  },
  {
   "cell_type": "markdown",
   "id": "904a6787",
   "metadata": {},
   "source": [
    "Determines how each metabolite should be normalized, e.g. summed signal or internal standard."
   ]
  },
  {
   "cell_type": "markdown",
   "id": "cd357a7f",
   "metadata": {},
   "source": [
    "Mode: \"neg\" for file for negative mode and \"pos\" for file for positive mode\\\n",
    "class: can be any class specified in the \"class\" column in the metadata library file. Note: for water solubles only class \"NA\" is available\\\n",
    "IS: Name of internal standard as specified in the maven output file or 'ss_identified', 'ss_targeted' or 'ss_untargeted'."
   ]
  },
  {
   "cell_type": "markdown",
   "id": "321b7e19",
   "metadata": {},
   "source": [
    "For 'ss_identified', 'ss_targeted' and 'ss_untargeted' no protein normalization is performed."
   ]
  },
  {
   "cell_type": "markdown",
   "id": "6a1056f6",
   "metadata": {},
   "source": [
    "## Data structure"
   ]
  },
  {
   "cell_type": "markdown",
   "id": "74a3b585",
   "metadata": {},
   "source": [
    "<code>data\n",
    "    $ metadata\n",
    "        $ working_directory # absolute path\n",
    "        $ expID # e.g. PSB123\n",
    "        $ analysis_type # e.g. WS/lipids/FFA/TFA/... (used for naming files)\n",
    "        $ samples # created from El-Maven metadata file, contains sample names, group and injection_order\n",
    "        $ groups # table containing all information about the groups\n",
    "        $ library # all information about the compounds, e.g. class, saturation, etc.\n",
    "    $ raw_data\n",
    "        $ targeted # created from maven output file\n",
    "        $ untargeted # created from maven output file\n",
    "        $ BCA # created from BCA file\n",
    "    $ scaling # table containing protein concentrations, summed signal and all other parameters required for normalization\n",
    "    $ analysis\n",
    "        $ analysis_name 1 (e.g. IS_prot)\n",
    "            $ settings\n",
    "                $ excluded_samples # specified when normalizing\n",
    "                $ excluded_groups # specified when normalizing\n",
    "                $ metadata_samples # created from data$metadata$samples using excluded_samples and excluded_groups\n",
    "                $ metadata_IS # created from metadata IS file\n",
    "            $ data_name 1 (e.g. 'int')\n",
    "                $ data\n",
    "                $ limma\n",
    "                    $ settings\n",
    "                        $ comparison\n",
    "                    $ fit\n",
    "                    $ ANOVA\n",
    "                    $ pairwise\n",
    "                $ Optional: other statistics like TukeyHSD, Dunnett's, ...\n",
    "                $ MetaboAnalyst\n",
    "                $ csv\n",
    "            $ data_name 2 (e.g. 'sat_ratio' or 'xch_rates'))\n",
    "            ...\n",
    "        $ analysis_name 2 (e.g. ss_identified)\n",
    "        ...\n",
    "    $ report\n",
    "    $ debug\n",
    "</code>"
   ]
  },
  {
   "cell_type": "markdown",
   "id": "386fa9ab",
   "metadata": {},
   "source": [
    "## Recommended best practices"
   ]
  },
  {
   "cell_type": "markdown",
   "id": "6f957e29",
   "metadata": {},
   "source": [
    "- analysis_name should be the type of normalization, e.g. \"D8Phe_prot\" or \"ss_identified\"\n",
    "- All data generated from a given normalization should be stored inside the given analysis_name under its own data_name, e.g. \"int\" for peak intensity, \"sat_ratio\" or \"xch_rates\""
   ]
  },
  {
   "cell_type": "markdown",
   "id": "7bbf09c9",
   "metadata": {},
   "source": [
    "# Complete analysis"
   ]
  },
  {
   "cell_type": "markdown",
   "id": "19169ddb",
   "metadata": {},
   "source": [
    "## Load"
   ]
  },
  {
   "cell_type": "markdown",
   "id": "1d8eedc8",
   "metadata": {},
   "source": [
    "```\n",
    "source('/media/sf_p036l/data/projects/Metabolic Core Analysis/Metabolic_Core_Analysis_0.5.r')\n",
    "```"
   ]
  },
  {
   "cell_type": "markdown",
   "id": "2e6ca1fa",
   "metadata": {},
   "source": [
    "```\n",
    "load_libraries()\n",
    "```"
   ]
  },
  {
   "cell_type": "markdown",
   "id": "40f3b1f7",
   "metadata": {},
   "source": [
    "## Initialize"
   ]
  },
  {
   "cell_type": "markdown",
   "id": "0dc209eb",
   "metadata": {},
   "source": [
    "```\n",
    "data <- NULL        \n",
    "\n",
    "data <- initialize_data(expID = 'PSB0042',\n",
    "                        analysis_type = 'WS',\n",
    "                        working_directory = '/media/sf_p036l/data/experiments/PSB0042 multiomics/metabolomics/0_WS/2nd measurement/R_testing',\n",
    "                        data_targeted_neg = '../analyzed/PSB0042_WS_targeted_neg.csv',\n",
    "                        data_targeted_pos = '../analyzed/PSB0042_WS_targeted_pos.csv',\n",
    "                        data_untargeted_neg = '../analyzed/PSB0042_WS_untargeted_neg.csv',\n",
    "                        data_untargeted_pos = '../analyzed/PSB0042_WS_untargeted_neg.csv',\n",
    "                        data_BCA = '../../../1_BCA/PSB0042_metabolomics_BCA.csv',\n",
    "                        metadata_samples = '../analyzed/PSB0042_WS_samples.csv',\n",
    "                        metadata_groups = '../analyzed/PSB0042_WS_groups.csv',\n",
    "                        metadata_library_neg = '../../../1_libraries/20210831_CDB_WatSol_KEGG_forMaven_neg_metadata.csv',\n",
    "                        metadata_library_pos = '../../../1_libraries/20210831_CDB_WatSol_KEGG_forMaven_pos_metadata.csv'\n",
    "                       )\n",
    "\n",
    "data <- prep_scaling()\n",
    "```"
   ]
  },
  {
   "cell_type": "markdown",
   "id": "6e510c3e",
   "metadata": {},
   "source": [
    "## Normalize"
   ]
  },
  {
   "cell_type": "markdown",
   "id": "73645ea1",
   "metadata": {},
   "source": [
    "```\n",
    "data <- normalize(df = data,\n",
    "                    analysis_name = 'D8Phe,\n",
    "                    data_name = 'intensity',\n",
    "                    excluded_groups = 'blank',\n",
    "                    excluded_samples = '',\n",
    "                    metadata_IS_neg = 'D8Phe_prot_IS_metadata_neg.csv',\n",
    "                    metadata_IS_pos = 'D8Phe_prot_IS_metadata_pos.csv',\n",
    "                    control = 'HPLMax'\n",
    "                   )\n",
    "\n",
    "data <- normalize(df = data,\n",
    "                    analysis_name = 'ss_identified,\n",
    "                    data_name = 'intensity',\n",
    "                    excluded_groups = 'blank',\n",
    "                    excluded_samples = '',\n",
    "                    metadata_IS_neg = 'D8Phe_ss_identified_metadata_neg.csv',\n",
    "                    metadata_IS_pos = 'D8Phe_ss_identified_metadata_pos.csv',\n",
    "                    control = 'HPLMax'\n",
    "                   )\n",
    "```"
   ]
  },
  {
   "cell_type": "markdown",
   "id": "ecc3e3a2",
   "metadata": {},
   "source": [
    "## Filter and create new data"
   ]
  },
  {
   "cell_type": "markdown",
   "id": "24f5d9b1",
   "metadata": {},
   "source": [
    "Manually create new data with a new data name for different analyses on data with the same normalization:"
   ]
  },
  {
   "cell_type": "markdown",
   "id": "23f43057",
   "metadata": {},
   "source": [
    "E.g. filter compounds based on quality control criteria or select which mode should be used when compounds were integrated in both modes:"
   ]
  },
  {
   "cell_type": "markdown",
   "id": "3d18dc4a",
   "metadata": {},
   "source": [
    "```\n",
    "data <- filter_compounds(df = data,\n",
    "                                  analysis_name = 'D8Phe_prot',\n",
    "                                  data_name = 'intensity',\n",
    "                                  new_data_name = 'intensity_filtered',\n",
    "                                  select = 'area',\n",
    "                                  qc_missingness = 'passed',\n",
    "                                  qc_iqr = ''\n",
    "                                 )\n",
    "```"
   ]
  },
  {
   "cell_type": "markdown",
   "id": "7aceff3f",
   "metadata": {},
   "source": [
    "Alternatively, new data, like exchange rates or saturation ratio, can be calculated."
   ]
  },
  {
   "cell_type": "markdown",
   "id": "0d55c880",
   "metadata": {},
   "source": [
    "## Pipeline"
   ]
  },
  {
   "cell_type": "markdown",
   "id": "827c70c5",
   "metadata": {},
   "source": [
    "Limma and csvs"
   ]
  },
  {
   "cell_type": "markdown",
   "id": "71e55415",
   "metadata": {},
   "source": [
    "```\n",
    "data <- pipeline(df = data,\n",
    "                 analysis_name = 'D8Phe_prot',\n",
    "                 data_name = 'intensity',\n",
    "                 comparison = list('KD-HPLMax',\n",
    "                                   'KD_highGlc-KD',\n",
    "                                   'KD_highGlc-HPLMax',\n",
    "                                   'HPLMax_lowGlc-HPLMax'\n",
    "                                   ),\n",
    "                 const = 0,\n",
    "                 exclude = ''\n",
    "                )\n",
    "```"
   ]
  },
  {
   "cell_type": "markdown",
   "id": "50b01959",
   "metadata": {},
   "source": [
    "## Optional: Export csv for IPA"
   ]
  },
  {
   "cell_type": "markdown",
   "id": "661e1c5b",
   "metadata": {},
   "source": [
    "Requires:\n",
    "- csv_volcano()\n",
    "- KeggID to be unique -> run filter_compounds() first"
   ]
  },
  {
   "cell_type": "markdown",
   "id": "7d6f149b",
   "metadata": {},
   "source": [
    "```\n",
    "data <- csv_IPA(df = data,\n",
    "                analysis_name = 'D8Phe_prot',\n",
    "                data_name = 'intensity_filtered',\n",
    "                export = TRUE\n",
    "               )\n",
    "```"
   ]
  },
  {
   "cell_type": "markdown",
   "id": "efa79c1c",
   "metadata": {},
   "source": [
    "## Optional: Metaboanalyst"
   ]
  },
  {
   "cell_type": "markdown",
   "id": "305460cc",
   "metadata": {},
   "source": [
    "```\n",
    "metaboanalyst(df = data,\n",
    "              analysis_name = 'D8Phe_prot',\n",
    "              data_name = 'intensity_filtered',\n",
    "              norm='LogNorm'\n",
    "             )\n",
    "```"
   ]
  },
  {
   "cell_type": "markdown",
   "id": "463fe02f",
   "metadata": {},
   "source": [
    "## Report"
   ]
  },
  {
   "cell_type": "markdown",
   "id": "6960b85b",
   "metadata": {},
   "source": [
    "```\n",
    "data <- combine_csvs(df <- data,\n",
    "                     analysis_name = c('D8Phe_prot','ss_identified'),\n",
    "                     data_name = c('intensity','intensity'),\n",
    "                     csv_source_name = 'volcano',\n",
    "                     csv_target_name = 'volcano',\n",
    "                     export = TRUE\n",
    "                    )\n",
    "```"
   ]
  },
  {
   "cell_type": "markdown",
   "id": "26d5a9fb",
   "metadata": {},
   "source": [
    "# Functions"
   ]
  },
  {
   "cell_type": "code",
   "execution_count": 8,
   "id": "da9190d7",
   "metadata": {},
   "outputs": [],
   "source": [
    "pipeline <- function(df = data,\n",
    "                     analysis_name,\n",
    "                     data_name,\n",
    "                     comparison,\n",
    "                     const = 0,\n",
    "                     exclude = ''\n",
    "                    ){\n",
    "    \n",
    "    df <- limma_analysis(df = df,\n",
    "                         analysis_name = analysis_name,\n",
    "                         data_name = data_name,\n",
    "                         col_name = 'unique_name',\n",
    "                         col_value = 'norm_int',\n",
    "                         comparison = comparison,\n",
    "                         const = const,\n",
    "                         exclude = exclude\n",
    "                        )\n",
    "    \n",
    "    \n",
    "    # Export normalized intensity (metabolite levels in medium over time)\n",
    "    df <- csv_total(df = df,\n",
    "                    analysis_name = analysis_name,\n",
    "                    data_name = data_name,\n",
    "                    statistic = 'limma',\n",
    "                    export = TRUE\n",
    "                   )\n",
    "    \n",
    "    df <- csv_volcano(df = df,\n",
    "                      analysis_name = analysis_name,\n",
    "                      data_name = data_name,\n",
    "                      statistic = 'limma',\n",
    "                      export = TRUE\n",
    "                     )\n",
    "    \n",
    "    df <- csv_metaboanalyst(df = df,\n",
    "                            analysis_name = analysis_name,\n",
    "                            data_name = data_name,\n",
    "                            value = 'norm_int',\n",
    "                            export = TRUE\n",
    "                           )\n",
    "    \n",
    "    df <- csv_metaboanalyst(df = df,\n",
    "                            analysis_name = analysis_name,\n",
    "                            data_name = data_name,\n",
    "                            value = 'limma_int',\n",
    "                            export = TRUE\n",
    "                           )\n",
    "    \n",
    "    return(df)\n",
    "    \n",
    "}"
   ]
  },
  {
   "cell_type": "markdown",
   "id": "a21546e4",
   "metadata": {},
   "source": [
    "## Main functions"
   ]
  },
  {
   "cell_type": "markdown",
   "id": "3dbcafb6",
   "metadata": {},
   "source": [
    "### Step 1: load libraries"
   ]
  },
  {
   "cell_type": "code",
   "execution_count": 3,
   "id": "bd8df48b",
   "metadata": {},
   "outputs": [],
   "source": [
    "load_libraries <- function(){\n",
    "    library(tidyverse)\n",
    "    library(limma)\n",
    "    #library(MetaboAnalystR) # Loaded in the function instead to improve loading times\n",
    "    library(rstatix)\n",
    "    \n",
    "    options(dplyr.summarise.inform = FALSE) # Suppresses \"`summarise()` has grouped output by 'group'. You can override using the `.groups` argument.\"\n",
    "}"
   ]
  },
  {
   "cell_type": "markdown",
   "id": "de9a6e63",
   "metadata": {},
   "source": [
    "### Step 2: initialize data"
   ]
  },
  {
   "cell_type": "markdown",
   "id": "f372fd67",
   "metadata": {},
   "source": [
    "Populates data\\\\$metadata and data\\\\$raw_data"
   ]
  },
  {
   "cell_type": "code",
   "execution_count": 1,
   "id": "d6c6fa4b",
   "metadata": {},
   "outputs": [],
   "source": [
    "initialize_data <- function(expID, # E.g. 'ABC042'\n",
    "                            analysis_type, # E.g. 'lipids'\n",
    "                            working_directory,\n",
    "                            data_targeted_neg,\n",
    "                            data_targeted_pos,\n",
    "                            data_untargeted_neg,\n",
    "                            data_untargeted_pos,\n",
    "                            data_BCA,\n",
    "                            metadata_samples,\n",
    "                            metadata_groups,\n",
    "                            metadata_library_neg,\n",
    "                            metadata_library_pos\n",
    "                           ){\n",
    "    message(\"Initialize data\")\n",
    "    \n",
    "    cat('Set working directory\\n')\n",
    "    setwd(working_directory)    \n",
    "    cat('Success: set working directory\\n')\n",
    "    \n",
    "    cat('Load files\\n')\n",
    "    # Load files\n",
    "    cat('data_targeted_neg\\n')\n",
    "    data_targeted_neg <- read.csv(data_targeted_neg)\n",
    "    cat('data_targeted_pos\\n')\n",
    "    data_targeted_pos <- read.csv(data_targeted_pos)\n",
    "    cat('data_untargeted_neg\\n')\n",
    "    data_untargeted_neg <- read.csv(data_untargeted_neg)\n",
    "    cat('data_untargeted_pos\\n')\n",
    "    data_untargeted_pos <- read.csv(data_untargeted_pos)\n",
    "    cat('data_BCA\\n')\n",
    "    data_BCA <- read.csv(data_BCA)\n",
    "    cat('metadata_samples\\n')\n",
    "    metadata_samples <- read.csv(metadata_samples)\n",
    "    cat('metadata_groups\\n')\n",
    "    metadata_groups <- read.csv(metadata_groups)\n",
    "    cat('metadata_library_neg\\n')\n",
    "    metadata_library_neg <- read.csv(metadata_library_neg)\n",
    "    cat('metadata_library_pos\\n')\n",
    "    metadata_library_pos <- read.csv(metadata_library_pos)\n",
    "    cat(\"Success: Load files\\n\")\n",
    "    \n",
    "    \n",
    "    # Prepare raw data files\n",
    "    \n",
    "    cat(\"Adding mode\\n\")\n",
    "    # Add mode  \n",
    "    data_targeted_neg <- add_mode(data_targeted_neg, 'neg')\n",
    "    data_targeted_pos <- add_mode(data_targeted_pos, 'pos')\n",
    "    data_untargeted_neg <- add_mode(data_untargeted_neg, 'neg')\n",
    "    data_untargeted_pos <- add_mode(data_untargeted_pos, 'pos')\n",
    "    cat(\"Success: Adding mode\\n\")\n",
    "    \n",
    "    # Combine respective data frames\n",
    "    cat(\"Combine data frames\")\n",
    "    data_targeted <- rbind(data_targeted_neg, data_targeted_pos)\n",
    "    data_untargeted <- rbind(data_untargeted_neg, data_untargeted_pos)\n",
    "    metadata_library <- rbind (metadata_library_neg, metadata_library_pos)\n",
    "    cat(\"Success: Combine data frames\\n\")\n",
    "    \n",
    "    # Remove \" (1)\" from name if present\n",
    "    # Sometimes when reopening El-Maven files, compounds get numbered. This might be a bug.\n",
    "    cat(\"Remove trailing numbers from compounds\\n\")\n",
    "    data_targeted <- remove_number_from_name(data_targeted)\n",
    "    \n",
    "    cat(\"Success: Remove trailing numbers from compounds\\n\")\n",
    "    \n",
    "    # Add unique name in case the same metabolite is identified in both modes\n",
    "    cat(\"Add unique name\\n\")\n",
    "    data_targeted <- add_unique_name(data_targeted)\n",
    "    data_untargeted <- add_unique_name(data_untargeted)\n",
    "    cat(\"Success: Add unique name\\n\")\n",
    "    \n",
    "    # Prepare data_BCA\n",
    "    cat(\"Prepare BCA data\\n\")\n",
    "    data_BCA <- prepare_data_BCA(data_BCA, analysis_type)\n",
    "    cat(\"Success: Preare BCA data\\n\")\n",
    "    \n",
    "    # Rename columns from metadata file\n",
    "    cat(\"Preare samples metadata\\n\")\n",
    "    metadata_samples <- prepare_metadata_samples(metadata_samples)\n",
    "    cat(\"Success: Preare samples metadata\\n\")\n",
    "    \n",
    "    # Initialize list in order to add items later\n",
    "    df <- list()\n",
    "    \n",
    "    cat(\"Write variables for output\\n\")\n",
    "    df$metadata$working_directory = working_directory\n",
    "    df$metadata$expID = expID\n",
    "    df$metadata$analysis_type = analysis_type\n",
    "    df$metadata$samples = metadata_samples\n",
    "    df$metadata$groups = metadata_groups\n",
    "    df$metadata$library = metadata_library\n",
    "    \n",
    "    df$raw_data$targeted = data_targeted\n",
    "    df$raw_data$untargeted = data_untargeted\n",
    "    df$raw_data$BCA = data_BCA\n",
    "    cat(\"Success: Write variables for output\\n\")\n",
    "    \n",
    "    message(\"Success: Initialize data\")\n",
    "    \n",
    "    return(df)   \n",
    "    \n",
    "    }"
   ]
  },
  {
   "cell_type": "markdown",
   "id": "e43fbfc2",
   "metadata": {},
   "source": [
    "#### Add mode"
   ]
  },
  {
   "cell_type": "code",
   "execution_count": 5,
   "id": "a70eda79",
   "metadata": {},
   "outputs": [],
   "source": [
    "add_mode <- function(df, selected_mode){\n",
    "    df <- df %>%\n",
    "    mutate(mode = as.factor(selected_mode))\n",
    "    return(df)\n",
    "}"
   ]
  },
  {
   "cell_type": "markdown",
   "id": "0e695b5c",
   "metadata": {},
   "source": [
    "#### Remove \" (number)\" if  present in compound name"
   ]
  },
  {
   "cell_type": "code",
   "execution_count": 6,
   "id": "0685a190",
   "metadata": {},
   "outputs": [],
   "source": [
    "remove_number_from_name <- function(df){\n",
    "    df <- df %>%\n",
    "        mutate(compound = case_when(grepl(\"[[:space:]]\\\\([[:digit:]]\\\\)\", compound) ~ str_sub(compound,1,str_length(compound)-4),\n",
    "                                    TRUE ~ as.character(compound)\n",
    "                                   ),\n",
    "               compound = as.factor(compound)\n",
    "              )\n",
    "\n",
    "    return(df)\n",
    "}    "
   ]
  },
  {
   "cell_type": "markdown",
   "id": "6bee5607",
   "metadata": {},
   "source": [
    "#### Add unique name"
   ]
  },
  {
   "cell_type": "code",
   "execution_count": 7,
   "id": "6751dee3",
   "metadata": {},
   "outputs": [],
   "source": [
    "add_unique_name <- function(df){\n",
    "    df <- df %>%\n",
    "    mutate(unique_name = paste(compound, medRt, mode, sep='@'))\n",
    "    return(df)\n",
    "}"
   ]
  },
  {
   "cell_type": "markdown",
   "id": "f102227f",
   "metadata": {},
   "source": [
    "#### Prepare data BCA"
   ]
  },
  {
   "cell_type": "markdown",
   "id": "5b5ead19",
   "metadata": {},
   "source": [
    "Samples might have different names when originating from different fractions(e.g. water soluble or lipids), but have the same protein quantification. In order assign the protein to the correct sample the csv containing the BCA results has a column for every fraction which contains the exact name.\n",
    "\n",
    "After taking the correct column the sample column is renamed to \"sample\".\n",
    "\n",
    "E.g. \"sample_WS\" is renamed to \"sample\"."
   ]
  },
  {
   "cell_type": "code",
   "execution_count": 8,
   "id": "c265b864",
   "metadata": {},
   "outputs": [],
   "source": [
    "prepare_data_BCA <- function(df, analysis_type){\n",
    "    \n",
    "    df <- df %>%\n",
    "        select(all_of(paste('sample', analysis_type, sep='_')), # Column correct column containing sample names from respective analysis\n",
    "               group,\n",
    "               protein,\n",
    "               mc_protein\n",
    "              ) %>%\n",
    "        rename(sample = all_of(paste('sample', analysis_type, sep='_'))) # Rename\n",
    "    \n",
    "    return(df)\n",
    "    \n",
    "}"
   ]
  },
  {
   "cell_type": "markdown",
   "id": "83e46bce",
   "metadata": {},
   "source": [
    "#### Prepare metadata of samples"
   ]
  },
  {
   "cell_type": "code",
   "execution_count": 9,
   "id": "9f5157e6",
   "metadata": {},
   "outputs": [],
   "source": [
    "prepare_metadata_samples <- function(df){\n",
    "    \n",
    "    df <- df %>%\n",
    "        select(c('Sample', 'Cohort', 'Injection.Order')) %>% # Drop unnecessary columns 'Scaling' and 'Color'\n",
    "        # Rename columns for consistent name scheme\n",
    "        rename(sample = Sample,\n",
    "               group = Cohort,\n",
    "               injection_order = Injection.Order\n",
    "              )\n",
    "    \n",
    "}"
   ]
  },
  {
   "cell_type": "markdown",
   "id": "9a6e24e8",
   "metadata": {},
   "source": [
    "### Step 3: prepare scaling dataframe"
   ]
  },
  {
   "cell_type": "code",
   "execution_count": 10,
   "id": "1b60761a",
   "metadata": {},
   "outputs": [],
   "source": [
    "prep_scaling <- function(df = data,\n",
    "                         export = TRUE){\n",
    "    \n",
    "    message(\"Preparing scaling data frame\")\n",
    "    \n",
    "    # Summed signal\n",
    "    \n",
    "    # Summed signal of all identified peaks\n",
    "    cat(\"Get summed signal\\n\")\n",
    "    cat(\"ss_identified\\n\")\n",
    "    ss_identified_neg <- get_summed_signal(filter(df$raw_data$targeted, label == 'g'), 'ss_identified', 'neg')\n",
    "    ss_identified_pos <- get_summed_signal(filter(df$raw_data$targeted, label == 'g'), 'ss_identified', 'pos')\n",
    "    cat(\"Success: ss_identified\\n\")\n",
    "    # Summed signal of all peaks found during targeted peak finding\n",
    "    cat(\"ss_targeted\\n\")\n",
    "    ss_targeted_neg <- get_summed_signal(df$raw_data$targeted, 'ss_targeted', 'neg')\n",
    "    ss_targeted_pos <- get_summed_signal(df$raw_data$targeted, 'ss_targeted', 'pos')\n",
    "    cat(\"Success: ss_targeted\\n\")\n",
    "    \n",
    "    # Summed signal of all peaks found during untargeted peak finding\n",
    "    cat(\"ss_untargeted\\n\")\n",
    "    ss_untargeted_neg <- get_summed_signal(df$raw_data$untargeted, 'ss_untargeted', 'neg')\n",
    "    ss_untargeted_pos <- get_summed_signal(df$raw_data$untargeted, 'ss_untargeted', 'pos')\n",
    "    cat(\"Success: ss_targeted\\n\")\n",
    "    \n",
    "    # Collect all summed signals in a single data frame\n",
    "    cat(\"Combine in single data frame\\n\")\n",
    "    ss <- rbind(ss_identified_neg,\n",
    "                ss_identified_pos,\n",
    "                \n",
    "                ss_targeted_neg,\n",
    "                ss_targeted_pos,\n",
    "                \n",
    "                ss_untargeted_neg,\n",
    "                ss_untargeted_pos\n",
    "               )\n",
    "    cat(\"Success: Combine in single data frame\\n\")\n",
    "    cat(\"Success: Get summed signal\\n\")\n",
    "    \n",
    "    # Collect all peaks marked as internal standard\n",
    "    cat(\"Collect IS\\n\")\n",
    "    IS <- collect_IS(data$raw_data$targeted)\n",
    "    cat(\"Success: Collect IS\\n\")\n",
    "    \n",
    "    # Collect summed signal and internal standard in single data frame\n",
    "    cat(\"Combine summed signal and IS\\n\")\n",
    "    IS <- rbind(ss, IS) %>%\n",
    "        rename(IS = compound)\n",
    "    cat(\"Success: Combine summed signal and IS\\n\")\n",
    "    \n",
    "    \n",
    "    # Add protein and save\n",
    "    cat(\"Add protein\\n\")\n",
    "    scaling <- merge(df$raw_data$BCA, IS, by='sample', all.y=TRUE)\n",
    "    cat(\"Success: Add protein\\n\")\n",
    "    \n",
    "    \n",
    "    # Add group metadata\n",
    "    cat(\"Add group metadata\\n\")\n",
    "    df$scaling <- merge(scaling, df$metadata$groups, by='group', all.x=TRUE)\n",
    "    cat(\"Success: Add group metadata\\n\")\n",
    "    \n",
    "    \n",
    "    if(export == TRUE){\n",
    "        cat(\"Export\\n\")\n",
    "        setwd(df$metadata$working_directory)\n",
    "        dir.create(paste('../', 'report', sep=''), showWarnings = FALSE)\n",
    "             \n",
    "        write.csv(df$scaling, paste('../report/', df$metadata$expID, '_', df$metadata$analysis_type, '_scaling.csv', sep=''), row.names=FALSE)\n",
    "        \n",
    "        setwd(df$metadata$working_directory)\n",
    "        cat(\"Success: Export\\n\")\n",
    "    }\n",
    "    \n",
    "    message('Scaling dataframe creation successfull.')\n",
    "    \n",
    "    return(df)\n",
    "    \n",
    "}"
   ]
  },
  {
   "cell_type": "markdown",
   "id": "f474a45d",
   "metadata": {},
   "source": [
    "#### Get summed signal"
   ]
  },
  {
   "cell_type": "code",
   "execution_count": 11,
   "id": "b4de3920",
   "metadata": {},
   "outputs": [],
   "source": [
    "# Summed signal is calculated for positive and negative mode separately\n",
    "get_summed_signal <- function(df,\n",
    "                              IS_name,\n",
    "                              selected_mode){\n",
    "    \n",
    "    df <- df %>%\n",
    "        filter(mode == selected_mode) %>%\n",
    "        select(data$metadata$samples$sample) # only select columns containing samples\n",
    "    \n",
    "    v <- as.data.frame(colSums(df)) %>% # Calculate summed signal for selected mode\n",
    "        rename(IS_intensity = 1) %>% # rename first column\n",
    "        mutate(IS_mc_int = IS_intensity/mean(IS_intensity), # Additionally calculate mean centered summed signal for plotting\n",
    "               mode = selected_mode,\n",
    "               compound = IS_name\n",
    "              )\n",
    "    v <- tibble::rownames_to_column(v, 'sample')\n",
    "    \n",
    "    return(v)    \n",
    "}"
   ]
  },
  {
   "cell_type": "markdown",
   "id": "f0e8b93b",
   "metadata": {},
   "source": [
    "#### Collect IS"
   ]
  },
  {
   "cell_type": "code",
   "execution_count": 12,
   "id": "6f40634d",
   "metadata": {},
   "outputs": [],
   "source": [
    "collect_IS <- function(df){\n",
    "    df <- df %>%\n",
    "        filter(label == 'b') %>%\n",
    "        select(compound, mode, data$metadata$samples$sample) %>%\n",
    "        pivot_longer(data$metadata$samples$sample, names_to='sample', values_to='IS_intensity') %>%\n",
    "        group_by(compound, mode) %>%\n",
    "        mutate(IS_mc_int = IS_intensity/mean(IS_intensity)) %>%\n",
    "        ungroup\n",
    "\n",
    "    return(df)\n",
    "}"
   ]
  },
  {
   "cell_type": "markdown",
   "id": "e123756c",
   "metadata": {},
   "source": [
    "### Step 4: Normalize"
   ]
  },
  {
   "cell_type": "code",
   "execution_count": 6,
   "id": "5b38c4e1",
   "metadata": {},
   "outputs": [],
   "source": [
    "normalize <- function(df = data,\n",
    "                      analysis_name,\n",
    "                      data_name,\n",
    "                      excluded_groups,\n",
    "                      excluded_samples,\n",
    "                      metadata_IS_neg,\n",
    "                      metadata_IS_pos,\n",
    "                      control\n",
    "                     ){\n",
    "    \n",
    "    message(\"Normalizing\")\n",
    "    \n",
    "    # Prepare list of samples that are included\n",
    "    cat(\"Write samples metadata with selected groups and samples removed\\n\")\n",
    "    metadata_samples <- df$metadata$samples %>%\n",
    "        # Exclude specified groups\n",
    "        filter(!group %in% excluded_groups) %>%\n",
    "        # Exclude specified samples\n",
    "        filter(!sample %in% excluded_samples)\n",
    "    cat(\"Success: Write samples metadata with selected groups and samples removed\\n\")\n",
    "    \n",
    "    # Save information in respective normalization\n",
    "    cat(\"Write information\\n\")\n",
    "    df$analysis[[analysis_name]]$settings$excluded_groups = excluded_groups\n",
    "    df$analysis[[analysis_name]]$settings$excluded_samples = excluded_samples\n",
    "    df$analysis[[analysis_name]]$settings$metadata_samples = metadata_samples\n",
    "    cat(\"Success: Write information\\n\")\n",
    "    \n",
    "    \n",
    "    # Prepare data frame that defines which compound is normalized by which standard\n",
    "    # Combine data frames\n",
    "    cat(\"Read and combine IS metadata files\\n\")\n",
    "    metadata_IS_neg <- read.csv(metadata_IS_neg)\n",
    "    metadata_IS_pos <- read.csv(metadata_IS_pos)\n",
    "    \n",
    "    metadata_IS <- rbind(metadata_IS_neg, metadata_IS_pos)\n",
    "    \n",
    "    # Save information in respective normalization\n",
    "    df$analysis[[analysis_name]]$settings$metadata_IS = metadata_IS\n",
    "    cat(\"Success: Read and combine IS metadata files\\n\")\n",
    "    \n",
    "    \n",
    "    \n",
    "    # Select data from El-Maven raw data excluding specified groups and samples\n",
    "    cat(\"Get data without excluded groups and samples\\n\")\n",
    "    intensity <- select_data(df$raw_data$targeted, metadata_samples$sample)\n",
    "    cat(\"Success: Get data without excluded groups and samples\\n\")\n",
    "        \n",
    "    # Ontology\n",
    "    cat(\"Add library metadata to data\\n\")\n",
    "    intensity <- merge(intensity, df$metadata$library, by=c('compound','mode'), all.x=TRUE)\n",
    "    cat(\"Success: Add library metadata to data\\n\")\n",
    "\n",
    "    \n",
    "    # Add column of internal standard to each compound\n",
    "    cat(\"Add column specifying normalization\\n\")\n",
    "    intensity <- merge(intensity, metadata_IS, by=c('class','mode'), all.x=TRUE)\n",
    "    cat(\"Success: Add column specifying normalization\\n\")\n",
    "    \n",
    "    \n",
    "    # Scaling data\n",
    "    cat(\"Add scaling data\\n\")\n",
    "    intensity <- merge(intensity, data$scaling, by=c('sample', 'mode', 'IS'), all.x=TRUE)\n",
    "    cat(\"Success: Add scaling data\\n\")\n",
    "    \n",
    "    \n",
    "\n",
    "    # Normalization\n",
    "    \n",
    "    # Compounds that are normalized with summed signal do not need protein normalization\n",
    "    cat(\"Summed signal normalization\\n\")\n",
    "    normalization_ss <- intensity %>%\n",
    "        filter(IS %in% c('ss_identified','ss_targeted','ss_untargeted')) %>%\n",
    "        mutate(norm_int = intensity/IS_intensity)\n",
    "    cat(\"Success: Summed signal normalization\\n\")\n",
    "    \n",
    "    # Compound normalized to IS need protein normalization\n",
    "    cat(\"IS + protein normalization\\n\")\n",
    "    normalization_IS <- intensity %>%\n",
    "        filter(!IS %in% c('ss_identified','ss_targeted','ss_untargeted')) %>%\n",
    "        mutate(norm_int = intensity/IS_intensity/protein)\n",
    "    cat(\"Success: IS + protein normalization\\n\")\n",
    "    \n",
    "    # Reunite individual dataframes\n",
    "    cat(\"Combine summed signal and IS + protein normalization again\\n\")\n",
    "    intensity <- rbind(normalization_ss, normalization_IS)\n",
    "    cat(\"Success: Combine summed signal and IS + protein normalization again\\n\")\n",
    "    \n",
    "    \n",
    "    \n",
    "    ## Add relative normalized intensity\n",
    "    # Since intensity can not be compared between compounds the absolute intensity does not matter.\\\n",
    "    # Therefore, data can be displayed relative to control (HPLMax).\n",
    "\n",
    "    # Get average of control\n",
    "    cat(\"Get intensities relative to control\\n\")\n",
    "    \n",
    "    cat(\"Get control mean\\n\")\n",
    "    control_mean_norm_int <- get_control_mean_norm_int(intensity, control)\n",
    "    cat(\"Success: Get control mean\\n\")\n",
    "\n",
    "    # Add average of HPLMax to every group\n",
    "    cat(\"Add control mean\\n\")\n",
    "    intensity <- merge(intensity, control_mean_norm_int, by=c('unique_name'), all.x=TRUE)\n",
    "    cat(\"Success: Add control mean\\n\")\n",
    "\n",
    "    \n",
    "    # Calculate intensity relative to HPLMax\n",
    "    cat(\"Calculate intensities relative to control\\n\")\n",
    "    intensity <- intensity %>%\n",
    "        mutate(rel_norm_int = norm_int/control_mean_int) %>%\n",
    "        select(!control_mean_int) %>%\n",
    "        arrange(unique_name, sample, group)\n",
    "    cat(\"Success: Calculate intensities relative to control\\n\")\n",
    "    \n",
    "    message('Success: Normalization.')\n",
    "    \n",
    "\n",
    "    # Add quality control parameters\n",
    "    intensity <- add_qc(df = intensity,\n",
    "                   analysis_name = analysis_name,\n",
    "                   data_name = data_name\n",
    "                  )\n",
    "    \n",
    "    \n",
    "    # Save information in respective normalization\n",
    "    cat(\"Write variables for output\\n\")\n",
    "    df$analysis[[analysis_name]][[data_name]]$data <- intensity\n",
    "    cat(\"Success: Write variables for output\\n\")\n",
    "    \n",
    "    \n",
    "    return(df)\n",
    "    \n",
    "}"
   ]
  },
  {
   "cell_type": "markdown",
   "id": "99830fa6",
   "metadata": {},
   "source": [
    "#### Select data from El-Maven raw file"
   ]
  },
  {
   "cell_type": "code",
   "execution_count": 14,
   "id": "d96ffffb",
   "metadata": {},
   "outputs": [],
   "source": [
    "select_data <- function(df,\n",
    "                        samples\n",
    "                       ){\n",
    "\n",
    "    df <- df %>%\n",
    "        filter(label == 'g') %>%\n",
    "        select(unique_name, compound, mode, all_of(samples)) %>%\n",
    "        pivot_longer(all_of(samples), names_to='sample', values_to='intensity') %>%\n",
    "        mutate(sample = as.factor(sample))\n",
    "    \n",
    "    \n",
    "    return(df)\n",
    "    \n",
    "}"
   ]
  },
  {
   "cell_type": "markdown",
   "id": "b85960c0",
   "metadata": {},
   "source": [
    "#### Get average normalized intensity of control"
   ]
  },
  {
   "cell_type": "code",
   "execution_count": 15,
   "id": "54427768",
   "metadata": {},
   "outputs": [],
   "source": [
    "get_control_mean_norm_int <- function(df, control){\n",
    "    df <- df %>%\n",
    "        group_by(group, unique_name) %>%\n",
    "        summarize(control_mean_int = mean(norm_int)) %>%\n",
    "        ungroup() %>%\n",
    "        filter(group == control) %>%\n",
    "        select(!group)\n",
    "    \n",
    "    return(df)\n",
    "}"
   ]
  },
  {
   "cell_type": "markdown",
   "id": "5dd1c84f",
   "metadata": {},
   "source": [
    "#### Add quality control information"
   ]
  },
  {
   "cell_type": "code",
   "execution_count": 7,
   "id": "bbfbec8d",
   "metadata": {},
   "outputs": [],
   "source": [
    "add_qc <- function(df,\n",
    "                   analysis_name,\n",
    "                   data_name\n",
    "                  ){\n",
    "\n",
    "    message(\"Add quality control information.\")\n",
    "    \n",
    "    cat(\"Calculate.\\n\")\n",
    "    df <- df %>%\n",
    "        \n",
    "        # Metabolites\n",
    "        # Metabolite passes the quality control if:\n",
    "            # Missingness < 10%, i.e. if the metabolite was detected in 90% of the samples\n",
    "        mutate(n_all_samples = n_distinct(sample)) %>%\n",
    "        group_by(unique_name) %>%\n",
    "        mutate(zeros_compound = sum(norm_int==0),\n",
    "               perc_zeros_compound = zeros_compound/n_all_samples,\n",
    "               qc_missingness = case_when(perc_zeros_compound > 0.1 ~ 'failed',\n",
    "                                         perc_zeros_compound <= 0.1 ~ 'passed'\n",
    "                                        )\n",
    "              ) %>%\n",
    "        ungroup() %>%\n",
    "\n",
    "        # IQR\n",
    "        # Metabolite passes the quality control if:\n",
    "            # IQR is equal or larger than 5% of the normalized intensity (across all samples)\n",
    "        # That means metabolites which are constant across all conditions fail\n",
    "        group_by(unique_name) %>%\n",
    "        mutate(iqr_all_samples = IQR(norm_int),\n",
    "               avg_norm_int = mean(norm_int),\n",
    "               rel_iqr_compound = iqr_all_samples/avg_norm_int,\n",
    "               qc_iqr = case_when(rel_iqr_compound < 0.05 ~ 'failed',\n",
    "                                  rel_iqr_compound >= 0.05 ~ 'passed'\n",
    "                                 )\n",
    "              ) %>%\n",
    "        ungroup() %>%\n",
    "\n",
    "        # Samples\n",
    "        # Sample passes the quality control if:\n",
    "            # Missingness < 10%, i.e. if 90% of the metabolites were detected in this sample\n",
    "        mutate(n_qc_passed_missingness = n_distinct(unique_name[qc_missingness == 'passed'])) %>%\n",
    "        group_by(sample) %>%\n",
    "        mutate(zeros_sample = sum(norm_int==0),\n",
    "               perc_zeros_sample = zeros_sample/n_qc_passed_missingness,\n",
    "               qc_sample = case_when(perc_zeros_sample > 0.1 ~ 'failed',\n",
    "                                     perc_zeros_sample <= 0.1 ~ 'passed'\n",
    "                                    )\n",
    "              ) %>%\n",
    "        ungroup()\n",
    "        cat(\"Success: Calculate.\\n\")\n",
    "\n",
    "\n",
    "    message(\"Success: Add quality control information.\")\n",
    "    \n",
    "    return(df)\n",
    "    \n",
    "}"
   ]
  },
  {
   "cell_type": "markdown",
   "id": "ced3650b",
   "metadata": {},
   "source": [
    "### Filter compounds"
   ]
  },
  {
   "cell_type": "markdown",
   "id": "60a20582",
   "metadata": {},
   "source": [
    "QC:\n",
    "\n",
    "Remove compounds that failed specified quality control"
   ]
  },
  {
   "cell_type": "markdown",
   "id": "22080894",
   "metadata": {},
   "source": [
    "Mode:\n",
    "\n",
    "When the same compound is integrated in positive and negative mode, at some point in the analysis one mode has to be chosen.\n",
    "\n",
    "Area: The mode with the higher raw peak area is selected\\\n",
    "SD: The mode which has the lower group average standard deviation is selected\n",
    "\n",
    "After the data is saved under a new data_name, the pipeline can be run again."
   ]
  },
  {
   "cell_type": "code",
   "execution_count": 2,
   "id": "e882aa60",
   "metadata": {},
   "outputs": [],
   "source": [
    "filter_compounds <- function(df = data,\n",
    "                             analysis_name,\n",
    "                             data_name,\n",
    "                             new_data_name,\n",
    "                             selection, # 'sd' or 'area'\n",
    "                             qc_missingness, # 'passed' when compounds that failed qc should be excluded\n",
    "                             qc_iqr # 'passed' when compounds that failed qc should be excluded\n",
    "                            ){\n",
    "    \n",
    "    \n",
    "    cat(\"Get data\\n\")\n",
    "    selected <- df$analysis[[analysis_name]][[data_name]]$data\n",
    "    cat(\"Success: Get data\\n\")\n",
    "    \n",
    "    if(qc_missingness == 'passed'){\n",
    "        \n",
    "        message(\"Remove compounds that failed missingness qc.\")\n",
    "        \n",
    "        selected <- selected %>%\n",
    "            filter(qc_missingness == 'passed')\n",
    "        \n",
    "        message(\"Success: Remove compounds that failed missingness qc.\")\n",
    "    }\n",
    "    \n",
    "    if(qc_iqr == 'passed'){\n",
    "        \n",
    "        message(\"Remove compounds that failed iqr qc.\")\n",
    "        \n",
    "        selected <- selected %>%\n",
    "            filter(qc_iqr == 'passed')\n",
    "        \n",
    "        message(\"Success: Remove compounds that failed iqr qc.\")\n",
    "    }\n",
    "    \n",
    "    \n",
    "    \n",
    "    message(\"Selecting mode for compounds\")\n",
    "    \n",
    "    # Selection based on standard deviation\n",
    "    if(selection == 'sd'){\n",
    "        \n",
    "        cat(\"sd\\n\")        \n",
    "        selected <- selected %>%\n",
    "            group_by(compound, mode, group) %>%\n",
    "            mutate(perc_sd_groups = sd(norm_int)/mean(norm_int)) %>% # Percentage standard deviation for each group\n",
    "            ungroup() %>%\n",
    "\n",
    "            group_by(compound, mode) %>%\n",
    "            mutate(median_perc_sd_groups = median(perc_sd_groups)) %>% # Median standard deviation of all groups\n",
    "            ungroup() %>%\n",
    "            arrange(median_perc_sd_groups) %>%\n",
    "            distinct(compound, sample, .keep_all=TRUE) %>%\n",
    "            select(!c(perc_sd_groups, median_perc_sd_groups))        \n",
    "        cat(\"Success: sd\\n\")\n",
    "        \n",
    "    }\n",
    "    \n",
    "    \n",
    "    # Selection based on (raw/unnnormalized) peak area\n",
    "    if(selection == 'area'){\n",
    "        \n",
    "        cat(\"area\\n\")\n",
    "        selected <- selected %>%\n",
    "            group_by(unique_name) %>%\n",
    "            mutate(median_int = median(intensity)) %>%\n",
    "            ungroup() %>%\n",
    "            arrange(median_int) %>%\n",
    "            distinct(compound, sample, .keep_all=TRUE) %>%\n",
    "            select(!c(median_int))\n",
    "        cat(\"Success: area\\n\")\n",
    "        \n",
    "    }\n",
    "    \n",
    "    cat(\"Write variables for output\\n\")\n",
    "    df$analysis[[analysis_name]][[new_data_name]]$data <- selected\n",
    "    cat(\"Success: Write variables for output\\n\")\n",
    "    \n",
    "    message(\"Success: Selecting mode for compounds\")\n",
    "    \n",
    "    return(df)\n",
    "    \n",
    "}"
   ]
  },
  {
   "cell_type": "markdown",
   "id": "7933d40e",
   "metadata": {},
   "source": [
    "### Step 5: Limma"
   ]
  },
  {
   "cell_type": "code",
   "execution_count": 16,
   "id": "c2415d19",
   "metadata": {},
   "outputs": [],
   "source": [
    "limma_analysis <- function(df = data,\n",
    "                           analysis_name,\n",
    "                           data_name,\n",
    "                           col_name,\n",
    "                           col_value,\n",
    "                           comparison,\n",
    "                           const = 0,\n",
    "                           exclude = '' # See prep_limma_df, usually not necessary because data is filtered before it is written in data_name$data\n",
    "                          ){\n",
    "\n",
    "    message(\"Limma analysis\")\n",
    "\n",
    "    # Save information in respective analysis\n",
    "    cat(\"Write comparison information\\n\")\n",
    "    df$analysis[[analysis_name]][[data_name]]$limma$comparison = comparison\n",
    "    cat(\"Success: Write comparison information\\n\")\n",
    "\n",
    "    \n",
    "    # Prepare dataframe\n",
    "    cat(\"Prepare limma data frame\\n\")\n",
    "    data_limma <- prep_limma_df(df$analysis[[analysis_name]][[data_name]]$data, col_name, col_value, exclude)\n",
    "    cat(\"Success: Prepare limma data frame\\n\")\n",
    "\n",
    "    # Design matrix\n",
    "    cat(\"Prepare groups\\n\")\n",
    "    groups <- df$analysis[[analysis_name]]$settings$metadata_samples %>%\n",
    "        arrange(group) # Important sorting step to make sure that groups are in a consistent order\n",
    "    groups <- factor(groups$group)\n",
    "    cat(\"Success: Prepare groups\\n\")\n",
    "    \n",
    "    cat(\"Prepare design matrix\\n\")\n",
    "    design <- model.matrix(~0+groups)\n",
    "    colnames(design) <- levels(groups)\n",
    "    cat(\"Success: Prepare design matrix\\n\")\n",
    "\n",
    "\n",
    "    # Convert to matrix and log2-transform\n",
    "    cat(\"Convert to matrix\\n\")\n",
    "    data_limma <- as.data.frame(data_limma)\n",
    "    rownames(data_limma) <- data_limma[,1]\n",
    "    data_limma[,1] <- NULL\n",
    "    m <- data.matrix(data_limma)\n",
    "    m <- log2(m+const)\n",
    "    cat(\"Success: Convert to matrix\\n\")\n",
    "\n",
    "\n",
    "    # Contrast matrix\n",
    "    # a-b means \"a/b\":\n",
    "    #    positive FC: increased in a relative to b\n",
    "    #    negative FC: decreased in a relative to b\n",
    "    # comparison is defined above in settings\n",
    "    cat(\"Make contrasts\\n\")\n",
    "    cont_m <- makeContrasts(contrasts=comparison, levels=design)\n",
    "    cat(\"Success: Make contrasts\\n\")\n",
    "\n",
    "    # FC calculation\n",
    "    cat(\"Fit\\n\")\n",
    "    fit <- lmFit(m, design)\n",
    "    fit <- contrasts.fit(fit, cont_m)\n",
    "    fit <- eBayes(fit, trend=TRUE)\n",
    "    cat(\"Success: Fit\\n\")\n",
    "    \n",
    "    \n",
    "    # ANOVA\n",
    "    cat(\"ANOVA\\n\")\n",
    "    ANOVA <- topTable(fit, n=Inf)\n",
    "\n",
    "    # Select only p-value column and move row names to column for later merging.\n",
    "    ANOVA <- ANOVA %>%\n",
    "        select(P.Value, adj.P.Val) %>%\n",
    "        rename(ANOVA_p_val = P.Value,\n",
    "               ANOVA_adj_p_val = adj.P.Val\n",
    "              )\n",
    "\n",
    "    ANOVA <- tibble::rownames_to_column(ANOVA, 'unique_name')\n",
    "    cat(\"Success: ANOVA\\n\")\n",
    "    \n",
    "    \n",
    "    cat(\"Aggregate pairwise comparisons\\n\")\n",
    "    pairwise <- aggregate_pairwise_results(fit, comparison)\n",
    "    cat(\"Success: Aggregate pairwise comparisons\\n\")\n",
    "    \n",
    "    \n",
    "    cat(\"Add transformed data to original data frame\\n\")\n",
    "    \n",
    "    transformed <- as.data.frame(m) %>%\n",
    "        tibble::rownames_to_column(\"unique_name\") %>%\n",
    "        pivot_longer(!unique_name, names_to='sample', values_to='limma_int')\n",
    "    \n",
    "    original <- df$analysis[[analysis_name]][[data_name]]$data\n",
    "    \n",
    "    added<- merge(original, transformed, by=c('unique_name','sample'), all.x=TRUE)\n",
    "    \n",
    "    cat(\"Success: Add transformed data to original data frame\\n\")\n",
    "        \n",
    "\n",
    "    # Add data to respective analysis\n",
    "    cat(\"Write variables for output\\n\")\n",
    "    df$analysis[[analysis_name]][[data_name]]$data <- added\n",
    "    df$analysis[[analysis_name]][[data_name]]$limma$data_limma <- data_limma\n",
    "    df$analysis[[analysis_name]][[data_name]]$limma$m <- m\n",
    "    df$analysis[[analysis_name]][[data_name]]$limma$fit <- fit\n",
    "    df$analysis[[analysis_name]][[data_name]]$limma$plotSA <- plotSA(fit)\n",
    "    df$analysis[[analysis_name]][[data_name]]$limma$ANOVA <- ANOVA\n",
    "    df$analysis[[analysis_name]][[data_name]]$limma$pairwise <- pairwise\n",
    "    cat(\"Success: Write variables for output\\n\")\n",
    "    \n",
    "    message(\"Success: Limma analysis\")\n",
    "    \n",
    "    return(df)\n",
    "}"
   ]
  },
  {
   "cell_type": "markdown",
   "id": "1a5d79c6",
   "metadata": {},
   "source": [
    "#### Prepare limma data frame"
   ]
  },
  {
   "cell_type": "code",
   "execution_count": 17,
   "id": "987febf7",
   "metadata": {},
   "outputs": [],
   "source": [
    "prep_limma_df <- function(df,\n",
    "                          col_name,\n",
    "                          col_value,\n",
    "                          exclude # Vector specifying all features to exclude\n",
    "                                       # Create manually, e.g. by:\n",
    "                                       # exclude <- data$analysis$D8Phe_prot$intensity$data %>%\n",
    "                                       #     filter(qc_missingness_metabolite == 'failed') %>%\n",
    "                                       #     distinct(unique_name) %>%\n",
    "                                       #     pull() # Creates a vector\n",
    "                         ){\n",
    "    \n",
    "    df <- df%>%\n",
    "        filter(!unique_name %in% exclude) %>% # Remove features in 'exclude'        \n",
    "        arrange(group) %>% # Important sorting step to make sure that groups are in a consistent order\n",
    "        select(sample, all_of(col_name), all_of(col_value)) %>%\n",
    "        pivot_wider(names_from='sample', values_from=all_of(col_value))\n",
    "    \n",
    "    return(df)\n",
    "    \n",
    "}"
   ]
  },
  {
   "cell_type": "markdown",
   "id": "cb20503c",
   "metadata": {},
   "source": [
    "#### Aggregate pairwise results"
   ]
  },
  {
   "cell_type": "code",
   "execution_count": 18,
   "id": "8780e2a9",
   "metadata": {},
   "outputs": [],
   "source": [
    "aggregate_pairwise_results <- function(df_fit, \n",
    "                                    comparison\n",
    "                                      ){\n",
    "\n",
    "    res <- data.frame() # Initialize variable\n",
    "\n",
    "    for(i in comparison){\n",
    "        df <- topTable(df_fit, number = Inf, coef=i) %>%\n",
    "            select(1,4,5) %>%\n",
    "            mutate(comparison = i,\n",
    "                   neglog10p = -log10(P.Value)\n",
    "                  ) %>%\n",
    "            relocate(comparison)\n",
    "        df <- tibble::rownames_to_column(df, 'unique_name') %>%\n",
    "            separate(unique_name, c('compound',NA,NA), sep='@', remove=FALSE)\n",
    "        res <- rbind(res, df)\n",
    "    }\n",
    "    \n",
    "    return(res)\n",
    "}"
   ]
  },
  {
   "cell_type": "markdown",
   "id": "43d79e20",
   "metadata": {},
   "source": [
    "### Step 6: create csvs"
   ]
  },
  {
   "cell_type": "markdown",
   "id": "218f9181",
   "metadata": {},
   "source": [
    "#### Total"
   ]
  },
  {
   "cell_type": "markdown",
   "id": "42f72e6b",
   "metadata": {},
   "source": [
    "Peak intensity"
   ]
  },
  {
   "cell_type": "code",
   "execution_count": 11,
   "id": "d14c5015",
   "metadata": {},
   "outputs": [],
   "source": [
    "csv_total <- function(df = data,\n",
    "                      analysis_name,\n",
    "                      data_name,\n",
    "                      statistic, # e.g. limma\n",
    "                      export = TRUE\n",
    "                     ){\n",
    "    \n",
    "    message(\"Create csv for total (= peak intensity)\")\n",
    "    \n",
    "    cat(\"Get data\\n\")\n",
    "    total <- df$analysis[[analysis_name]][[data_name]]$data\n",
    "    cat(\"Success: Get data\\n\")\n",
    "    \n",
    "    cat(\"Get statistics\\n\")\n",
    "    test <- c('limma','anova_posthoc\\n') %in% statistic # Returns a string that contains TRUE when one is present\n",
    "    if (TRUE %in% test){\n",
    "        cat(\"Statistics added\\n\")\n",
    "        total <- merge(total, df$analysis[[analysis_name]][[data_name]][[statistic]]$ANOVA, by='unique_name', all.x=TRUE)\n",
    "    } else {\n",
    "        cat(\"No statistics added\\n\")\n",
    "    }\n",
    "    cat(\"Success: Get statistics\\n\")\n",
    "    \n",
    "    \n",
    "    cat(\"Write variables for output\\n\")\n",
    "    df$analysis[[analysis_name]][[data_name]]$csv$total <- total   \n",
    "    cat(\"Success: Write variables for output\\n\") \n",
    "    \n",
    "    \n",
    "    if(export == TRUE){\n",
    "        cat(\"Exporting csv\\n\")\n",
    "        dir.create(paste(df$metadata$working_directory, '/', analysis_name, sep=''), showWarnings = FALSE)\n",
    "        dir.create(paste(df$metadata$working_directory, '/', analysis_name, '/', data_name, sep=''), showWarnings = FALSE)\n",
    "        dir.create(paste(df$metadata$working_directory, '/', analysis_name, '/', data_name, '/csv', sep=''), showWarnings = FALSE)\n",
    "        \n",
    "        write.csv(total, paste(df$metadata$working_directory, '/', analysis_name, '/', data_name, '/csv/', df$metadata$expID, '_', df$metadata$analysis_type, '_', analysis_name, '_', data_name, '_total.csv', sep=''), row.names=FALSE)\n",
    "        cat(\"Success: Exporting csv\\n\")\n",
    "    }\n",
    "\n",
    "    message(\"Success: Create csv for total (= peak intensity)\")\n",
    "    \n",
    "    return(df)\n",
    "}"
   ]
  },
  {
   "cell_type": "markdown",
   "id": "524fb817",
   "metadata": {},
   "source": [
    "#### Volcano"
   ]
  },
  {
   "cell_type": "code",
   "execution_count": 20,
   "id": "d73e2125",
   "metadata": {},
   "outputs": [],
   "source": [
    "csv_volcano <- function(df = data,\n",
    "                        analysis_name,\n",
    "                        data_name,\n",
    "                        statistic, # e.g. limma\n",
    "                        export = TRUE\n",
    "                       ){    \n",
    "    \n",
    "    message(\"Create csv for vulcano\")\n",
    "    \n",
    "    cat(\"Get data\\n\")\n",
    "    pairwise <- df$analysis[[analysis_name]][[data_name]][[statistic]]$pairwise %>%\n",
    "            separate(unique_name, c(NA,NA,'mode'), sep='@', remove=FALSE) %>%\n",
    "            mutate(mode = as.factor(mode))\n",
    "    cat(\"Success: Get data\\n\")\n",
    "    \n",
    "    cat(\"Add metadata\\n\")\n",
    "    volcano <- merge(pairwise, df$metadata$library, by=c('compound', 'mode'), all.x=TRUE)\n",
    "    cat(\"Success: Add metadata\\n\")\n",
    "    \n",
    "       \n",
    "    cat(\"Write variables for output\\n\") \n",
    "    df$analysis[[analysis_name]][[data_name]]$csv$volcano <- volcano   \n",
    "    cat(\"Success: Write variables for output\\n\") \n",
    "    \n",
    "    \n",
    "    \n",
    "    if(export == TRUE){\n",
    "        cat(\"Exporting csv\\n\")\n",
    "        dir.create(paste(df$metadata$working_directory, '/', analysis_name, sep=''), showWarnings = FALSE)\n",
    "        dir.create(paste(df$metadata$working_directory, '/', analysis_name, '/', data_name, sep=''), showWarnings = FALSE)\n",
    "        dir.create(paste(df$metadata$working_directory, '/', analysis_name, '/', data_name, '/csv', sep=''), showWarnings = FALSE)\n",
    "        \n",
    "        write.csv(volcano, paste(df$metadata$working_directory, '/', analysis_name, '/', data_name, '/csv/', df$metadata$expID, '_', df$metadata$analysis_type, '_', analysis_name, '_', data_name, '_volcano.csv', sep=''), row.names=FALSE)\n",
    "        cat(\"Success: Exporting csv\\n\")\n",
    "    }\n",
    "\n",
    "    message(\"Success: Create csv for vulcano\")\n",
    "        \n",
    "    return(df)\n",
    "}"
   ]
  },
  {
   "cell_type": "markdown",
   "id": "a150df37",
   "metadata": {},
   "source": [
    "#### Format data for IPA"
   ]
  },
  {
   "cell_type": "code",
   "execution_count": 3,
   "id": "bc97d1ee",
   "metadata": {},
   "outputs": [],
   "source": [
    "csv_IPA <- function(df = data,\n",
    "                       analysis_name,\n",
    "                       data_name, # KeggID needs to be unique -> run select_mode_for_compounds first if required\n",
    "                       export = TRUE\n",
    "                      ){\n",
    "    \n",
    "    message(\"Create csv for IPA\")\n",
    "    \n",
    "    cat(\"Get data from $csv$volcano\\n\")\n",
    "    selected <- df$analysis[[analysis_name]][[data_name]]$csv$volcano %>%\n",
    "        filter(id != '') # If metabolites have no id this field is empty but not NA\n",
    "    cat(\"Success: Get data from $csv$volcano\\n\")\n",
    "    \n",
    "    cat(\"Get log2fc\\n\")\n",
    "    IPA_log2fc <- selected %>%\n",
    "        select(comparison, id, logFC) %>%\n",
    "        pivot_wider(names_from='comparison', values_from='logFC', names_prefix='log2fc_')\n",
    "    cat(\"Success: Get log2fc\\n\")\n",
    "\n",
    "    cat(\"Get p-value\\n\")\n",
    "    IPA_pval <- selected %>%\n",
    "        select(comparison, id, P.Value) %>%\n",
    "        pivot_wider(names_from='comparison', values_from='P.Value', names_prefix='P.Value_')\n",
    "    cat(\"Success: Get p-value\\n\")\n",
    "\n",
    "    cat(\"Get adjusted p-value\\n\")\n",
    "    IPA_adjpval <- selected %>%\n",
    "        select(comparison, id, adj.P.Val) %>%\n",
    "        pivot_wider(names_from='comparison', values_from='adj.P.Val', names_prefix='adj.P.Val_')\n",
    "    cat(\"Success: Get adjusted p-value\\n\")\n",
    "\n",
    "    \n",
    "    cat(\"Merge data\\n\")\n",
    "    IPA <- cbind(IPA_log2fc,IPA_pval[,-1],IPA_adjpval[,-1])\n",
    "    cat(\"Success: Merge data\\n\")\n",
    "    \n",
    "    \n",
    "    if(export == TRUE){\n",
    "        cat(\"Exporting csv\\n\")\n",
    "        dir.create(paste(df$metadata$working_directory, '/', analysis_name, sep=''), showWarnings = FALSE)\n",
    "        dir.create(paste(df$metadata$working_directory, '/', analysis_name, '/', data_name, sep=''), showWarnings = FALSE)\n",
    "        dir.create(paste(df$metadata$working_directory, '/', analysis_name, '/', data_name, '/csv', sep=''), showWarnings = FALSE)\n",
    "\n",
    "        write.csv(IPA, paste(df$metadata$working_directory, '/', analysis_name, '/', data_name, '/csv/', df$metadata$expID, '_', df$metadata$analysis_type, '_', analysis_name, '_', data_name, '_IPA.csv', sep=''), row.names=FALSE)\n",
    "        cat(\"Success: Exporting csv\\n\")\n",
    "    }\n",
    "    \n",
    "    cat(\"Write variables for output\\n\")\n",
    "    df$analysis[[analysis_name]][[data_name]]$csv$IPA <- IPA\n",
    "    cat(\"Success: Write variables for output\\n\")\n",
    "    \n",
    "    message(\"Success: Create csv for IPA\")\n",
    "    \n",
    "    return(df)\n",
    "    \n",
    "}"
   ]
  },
  {
   "cell_type": "markdown",
   "id": "d5b7d528",
   "metadata": {},
   "source": [
    "#### Metaboanalyst"
   ]
  },
  {
   "cell_type": "code",
   "execution_count": 1,
   "id": "a865d7b3",
   "metadata": {},
   "outputs": [],
   "source": [
    "csv_metaboanalyst <- function(df = data,\n",
    "                              analysis_name,\n",
    "                              data_name,\n",
    "                              value, # usually 'norm_int', name of column in original data frame that contains the data\n",
    "                              export = TRUE\n",
    "                             ){    \n",
    "    \n",
    "    message(\"Create csv for metaboanalyst\")\n",
    "    \n",
    "    \n",
    "    cat(\"Get data\\n\")\n",
    "    metaboanalyst <- df$analysis[[analysis_name]][[data_name]]$data %>%\n",
    "        arrange(group) %>% # Important sorting step 1 to make sure that the group row is in the correct order\n",
    "        select(sample, unique_name, all_of(value)) %>%\n",
    "        pivot_wider(names_from='sample', values_from=all_of(value))\n",
    "    cat(\"Success: Get data\\n\")\n",
    "\n",
    "    groups <- df$analysis[[analysis_name]]$settings$metadata_samples %>%\n",
    "        arrange(group) # Important sorting step 2\n",
    "    \n",
    "    cat(\"Add group row\\n\")\n",
    "    metaboanalyst <- rbind(c('', as.character(groups$group)), metaboanalyst)\n",
    "    cat(\"Success: Add group row\\n\")\n",
    "    \n",
    "    \n",
    "    cat(\"Write variables for output\\n\") \n",
    "    metaboanalyst_value = paste('metaboanalyst', value, sep='_')\n",
    "    df$analysis[[analysis_name]][[data_name]]$csv[[metaboanalyst_value]] <- metaboanalyst\n",
    "    cat(\"Success: Write variables for output\\n\") \n",
    "    \n",
    "    if(export == TRUE){\n",
    "        cat(\"Exporting csv\\n\")\n",
    "        dir.create(paste(df$metadata$working_directory, '/', analysis_name, sep=''), showWarnings = FALSE)\n",
    "        dir.create(paste(df$metadata$working_directory, '/', analysis_name, '/', data_name, sep=''), showWarnings = FALSE)\n",
    "        dir.create(paste(df$metadata$working_directory, '/', analysis_name, '/', data_name, '/csv', sep=''), showWarnings = FALSE)\n",
    "        \n",
    "        write.csv(metaboanalyst, paste(df$metadata$working_directory, '/', analysis_name, '/', data_name, '/csv/', df$metadata$expID, '_', df$metadata$analysis_type, '_', analysis_name, '_', data_name, '_', value, '_metaboanalyst.csv', sep=''), row.names=FALSE)\n",
    "        cat(\"Success: Exporting csv\\n\")\n",
    "    }\n",
    "\n",
    "    message(\"Success: Create csv for metaboanalyst\")\n",
    "    \n",
    "    return(df)\n",
    "}"
   ]
  },
  {
   "cell_type": "markdown",
   "id": "ebfbb261",
   "metadata": {},
   "source": [
    "### Step 7: metaboanalyst"
   ]
  },
  {
   "cell_type": "code",
   "execution_count": 12,
   "id": "4dc9dd67",
   "metadata": {},
   "outputs": [],
   "source": [
    "metaboanalyst <- function(df = data,\n",
    "                          analysis_name,\n",
    "                          data_name,\n",
    "                          value, # usually 'norm_int'; name of column in original data frame that contains the data\n",
    "                          norm\n",
    "                         ){\n",
    "\n",
    "    message(\"Metaboanalyst\")\n",
    "    \n",
    "    library(MetaboAnalystR)\n",
    "    \n",
    "    cat(\"Change working directory\\n\")        \n",
    "    dir.create(paste(df$metadata$working_directory, '/', analysis_name, '/', data_name, '/metaboanalyst', sep=''), showWarnings = FALSE)\n",
    "    setwd(paste(df$metadata$working_directory, '/', analysis_name, '/', data_name, '/metaboanalyst', sep=''))\n",
    "    cat(\"Success: Change working directory\\n\")\n",
    "\n",
    "    # General setup\n",
    "    cat(\"Initialization\\n\")\n",
    "    mSet<-InitDataObjects(\"pktable\", \"stat\", FALSE)\n",
    "    mSet<-Read.TextData(mSet, paste('../csv/', df$metadata$expID, '_', df$metadata$analysis_type, '_', analysis_name, '_', data_name, '_', value, '_metaboanalyst.csv', sep=''), \"colu\", \"disc\");\n",
    "    mSet<-SanityCheckData(mSet)\n",
    "    mSet<-ReplaceMin(mSet);\n",
    "    mSet<-SanityCheckData(mSet)\n",
    "    mSet<-FilterVariable(mSet, \"none\", \"F\", 25)\n",
    "    mSet<-PreparePrenormData(mSet)\n",
    "    cat(\"Success: Initialization\\n\")\n",
    "    \n",
    "    # Normalization\n",
    "    cat(\"Normalization\\n\")\n",
    "    mSet<-Normalization(mSet, \"NULL\", norm, \"NULL\", ratio=FALSE, ratioNum=20)\n",
    "    #mSet<-PlotNormSummary(mSet, \"norm_0_\", \"png\", 72, width=NA)\n",
    "    #mSet<-PlotSampleNormSummary(mSet, \"snorm_0_\", \"png\", 72, width=NA)\n",
    "    cat(\"Success: Normalization\\n\")\n",
    "\n",
    "    # Heatmap\n",
    "    # Only works from command line! Does not work in jupyter.\n",
    "    cat(\"Heatmap\\n\")\n",
    "    mSet<-PlotHeatMap(mSet, paste(df$metadata$expID, '_', df$metadata$analysis_type, '_', analysis_name, '_', data_name, '_heatmap_', sep=''), \"png\", 72, width=NA, \"norm\", \"row\", \"euclidean\", \"ward.D\",\"bwm\", \"overview\", T, T, NULL, T, F)\n",
    "    cat(\"Success: Heatmap\\n\")\n",
    "    \n",
    "    # PCA\n",
    "    cat(\"PCA\\n\")\n",
    "    mSet<-PCA.Anal(mSet)\n",
    "    #mSet<-PlotPCAPairSummary(mSet, \"pca_pair_0_\", \"png\", 72, width=NA, 5)\n",
    "    #mSet<-PlotPCAScree(mSet, \"pca_scree_0_\", \"png\", 72, width=NA, 5)\n",
    "    mSet<-PlotPCA2DScore(mSet, paste(df$metadata$expID, '_', df$metadata$analysis_type, '_', analysis_name, '_', data_name, '_PCA_', sep=''), \"png\", 72, width=NA, 1,2,0.95,0,0)\n",
    "    #mSet<-PlotPCALoading(mSet, \"pca_loading_0_\", \"png\", 72, width=NA, 1,2);\n",
    "    #mSet<-PlotPCABiplot(mSet, \"pca_biplot_0_\", \"png\", 72, width=NA, 1,2)\n",
    "    #mSet<-PlotPCA3DLoading(mSet, \"pca_loading3d_0_\", \"json\", 1,2,3)\n",
    "    cat(\"Success: PCA\\n\")\n",
    "\n",
    "    # PLSDA\n",
    "    cat(\"PLSDA\\n\")\n",
    "    mSet<-PLSR.Anal(mSet, reg=FALSE)\n",
    "    #mSet<-PlotPLSPairSummary(mSet, \"pls_pair_1_\", \"png\", 72, width=NA, 5)\n",
    "    mSet<-PlotPLS2DScore(mSet, paste(df$metadata$expID, '_', df$metadata$analysis_type, '_', analysis_name, '_', data_name, '_PLSDA_', sep=''), \"png\", 72, width=NA, 1,2,0.95,1,0)\n",
    "    #mSet<-PlotPLS3DScoreImg(mSet, \"pls_score3d_1_\", \"png\", 72, width=NA, 1,2,3, 40)\n",
    "    #mSet<-PlotPLSLoading(mSet, \"pls_loading_1_\", \"png\", 72, width=NA, 1, 2);\n",
    "    #mSet<-PLSDA.CV(mSet, \"L\",5, \"Q2\")\n",
    "    #mSet<-PlotPLS.Classification(mSet, \"pls_cv_1_\", \"png\", 72, width=NA)\n",
    "    #mSet<-PlotPLS.Imp(mSet, \"pls_imp_1_\", \"png\", 72, width=NA, \"vip\", \"Comp. 1\", 15,FALSE)\n",
    "    cat(\"Success: PLSDA\\n\")\n",
    "\n",
    "    # sPLSDA\n",
    "    cat(\"sPLSDA\\n\")\n",
    "    mSet<-SPLSR.Anal(mSet, 2, 10, \"same\", \"Mfold\")\n",
    "    #mSet<-PlotSPLSPairSummary(mSet, \"spls_pair_0_\", \"png\", 72, width=NA, 5)\n",
    "    mSet<-PlotSPLS2DScore(mSet, paste(df$metadata$expID, '_', df$metadata$analysis_type, '_', analysis_name, '_', data_name, '_sPLSDA_', sep=''), \"png\", 72, width=NA, 1,2,0.95,0,0)\n",
    "    #mSet<-PlotSPLS3DScoreImg(mSet, \"spls_score3d_0_\", \"png\", 72, width=NA, 1,2,3, 40)\n",
    "    #mSet<-PlotSPLSLoading(mSet, \"spls_loading_0_\", \"png\", 72, width=NA, 1,\"overview\");\n",
    "    #mSet<-PlotSPLSDA.Classification(mSet, \"spls_cv_0_\", \"png\", 72, width=NA)\n",
    "    #mSet<-PlotSPLS3DLoading(mSet, \"spls_loading3d_0_\", \"json\", 1,2,3)\n",
    "    cat(\"Success: sPLSDA\\n\")\n",
    "    \n",
    "    #O-PLSDA\n",
    "    #mSet<-OPLSR.Anal(mSet, reg=FALSE)\n",
    "    #mSet<-PlotOPLS2DScore(mSet, \"opls_score2d_0_\", \"png\", 72, width=NA, 1,2,0.95,0,0)\n",
    "    #mSet<-PlotOPLS.Splot(mSet, \"opls_splot_0_\", \"all\", \"png\", 72, width=NA);\n",
    "    #mSet<-PlotOPLS.Imp(mSet, \"opls_imp_0_\", \"png\", 72, width=NA, \"vip\", \"tscore\", 15,FALSE) # Does currently not work\n",
    "    #mSet<-PlotOPLS.MDL(mSet, \"opls_mdl_0_\", \"png\", 72, width=NA)\n",
    "\n",
    "    cat(\"Reset working directory\\n\")\n",
    "    setwd(df$metadata$working_directory)\n",
    "    cat(\"Success: Reset working directory\\n\")\n",
    "    \n",
    "    #df$analysis[[analysis_name]][[data_name]]$metaboanalyst$mSet = mSet\n",
    "    \n",
    "    message(\"Success: Metaboanalyst\")\n",
    "    \n",
    "    #return(df)\n",
    "    \n",
    "}"
   ]
  },
  {
   "cell_type": "markdown",
   "id": "aed586f9",
   "metadata": {},
   "source": [
    "### Step 8: generate report"
   ]
  },
  {
   "cell_type": "code",
   "execution_count": 23,
   "id": "47f42271",
   "metadata": {},
   "outputs": [],
   "source": [
    "combine_csvs <- function(df = data,\n",
    "                         analysis_name, # vector of analysis names\n",
    "                         data_name, # vector of data names\n",
    "                         csv_source_name,\n",
    "                         csv_target_name,\n",
    "                         export = TRUE\n",
    "                        ){\n",
    "    \n",
    "    message(\"Combine csvs\")\n",
    "    \n",
    "    cat(\"Loop over csvs\\n\")\n",
    "    df_combined <- NULL\n",
    "    i = 1\n",
    "    while (i <= length(analysis_name)){\n",
    "        analysis <- df$analysis[[analysis_name[i]]][[data_name[i]]]$csv[[csv_source_name]] %>%\n",
    "            mutate(analysis = paste(analysis_name[i], data_name[i], sep='_'))\n",
    "        df_combined <- rbind(df_combined, analysis)\n",
    "        \n",
    "        i = i+1\n",
    "    }\n",
    "    cat(\"Success: Loop over csvs\\n\")\n",
    "\n",
    "    cat(\"Write variables for output\\n\") \n",
    "    df$report[[csv_target_name]] <- df_combined\n",
    "    cat(\"Success: Write variables for output\\n\")\n",
    "\n",
    "    if(export == TRUE){\n",
    "        cat(\"Exporting csv\\n\")\n",
    "        setwd(df$metadata$working_directory)\n",
    "        dir.create(paste('../', 'report', sep=''), showWarnings = FALSE)\n",
    "        \n",
    "        write.csv(df_combined, paste('../report/', df$metadata$expID, '_', df$metadata$analysis_type, '_', csv_target_name, '_summary.csv', sep=''), row.names=FALSE)\n",
    "    \n",
    "        setwd(df$metadata$working_directory)\n",
    "        cat(\"Success: Exporting csv\\n\")\n",
    "    }\n",
    "    \n",
    "    message(\"Success: Combine csvs\\n\")\n",
    "    \n",
    "    return(df)\n",
    "    \n",
    "}"
   ]
  },
  {
   "cell_type": "markdown",
   "id": "1a1faee2",
   "metadata": {},
   "source": [
    "## Additional functions"
   ]
  },
  {
   "cell_type": "markdown",
   "id": "f94f0446",
   "metadata": {},
   "source": [
    "Pipeline without normalization."
   ]
  },
  {
   "cell_type": "code",
   "execution_count": null,
   "id": "5284e2d1",
   "metadata": {},
   "outputs": [],
   "source": [
    "pipeline2 <- function(df = data,\n",
    "                     analysis_name,\n",
    "                     data_name,\n",
    "                     excluded_groups,\n",
    "                     excluded_samples,\n",
    "                     metadata_IS_neg,\n",
    "                     metadata_IS_pos,\n",
    "                     control,\n",
    "                     comparison\n",
    "                    ){\n",
    "    \n",
    "    # Normalization\n",
    "    \n",
    "    # No normalization because data has already been normalized\n",
    "    \n",
    "\n",
    "    \n",
    "    df <- limma_analysis(df = df,\n",
    "                         analysis_name = analysis_name,\n",
    "                         data_name = data_name,\n",
    "                         col_name = 'unique_name',\n",
    "                         col_value = 'norm_int',\n",
    "                         comparison = comparison\n",
    "                        )\n",
    "    \n",
    "    \n",
    "    # Export normalized intensity (metabolite levels in medium over time)\n",
    "    df <- csv_total(df = df,\n",
    "                    analysis_name = analysis_name,\n",
    "                    data_name = data_name,\n",
    "                    statistic = 'limma',\n",
    "                    export = TRUE\n",
    "                   )\n",
    "    \n",
    "    df <- csv_volcano(df = df,\n",
    "                      analysis_name = analysis_name,\n",
    "                      data_name = data_name,\n",
    "                      statistic = 'limma',\n",
    "                      export = TRUE\n",
    "                     )\n",
    "    \n",
    "    df <- csv_metaboanalyst(df = df,\n",
    "                            analysis_name = analysis_name,\n",
    "                            data_name = data_name,\n",
    "                            value = 'norm_int',\n",
    "                            export = TRUE\n",
    "                           )\n",
    "       \n",
    "    metaboanalyst(df = df,\n",
    "                  analysis_name = analysis_name,\n",
    "                  data_name = data_name,\n",
    "                  norm='LogNorm')\n",
    "    \n",
    "    return(df)\n",
    "    \n",
    "}"
   ]
  }
 ],
 "metadata": {
  "kernelspec": {
   "display_name": "R",
   "language": "R",
   "name": "ir"
  },
  "language_info": {
   "codemirror_mode": "r",
   "file_extension": ".r",
   "mimetype": "text/x-r-source",
   "name": "R",
   "pygments_lexer": "r",
   "version": "3.6.3"
  },
  "toc": {
   "base_numbering": 1,
   "nav_menu": {},
   "number_sections": true,
   "sideBar": true,
   "skip_h1_title": false,
   "title_cell": "Table of Contents",
   "title_sidebar": "Contents",
   "toc_cell": false,
   "toc_position": {
    "height": "calc(100% - 180px)",
    "left": "10px",
    "top": "150px",
    "width": "341.333px"
   },
   "toc_section_display": true,
   "toc_window_display": true
  },
  "varInspector": {
   "cols": {
    "lenName": 16,
    "lenType": 16,
    "lenVar": 40
   },
   "kernels_config": {
    "python": {
     "delete_cmd_postfix": "",
     "delete_cmd_prefix": "del ",
     "library": "var_list.py",
     "varRefreshCmd": "print(var_dic_list())"
    },
    "r": {
     "delete_cmd_postfix": ") ",
     "delete_cmd_prefix": "rm(",
     "library": "var_list.r",
     "varRefreshCmd": "cat(var_dic_list()) "
    }
   },
   "types_to_exclude": [
    "module",
    "function",
    "builtin_function_or_method",
    "instance",
    "_Feature"
   ],
   "window_display": false
  }
 },
 "nbformat": 4,
 "nbformat_minor": 5
}
